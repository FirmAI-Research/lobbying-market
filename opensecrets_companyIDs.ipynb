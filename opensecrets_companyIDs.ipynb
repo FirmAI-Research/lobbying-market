{
 "cells": [
  {
   "cell_type": "code",
   "execution_count": 15,
   "metadata": {},
   "outputs": [],
   "source": [
    "from crpapi import CRP\n",
    "from ed.API_keys import get_opensecrets_key\n",
    "import pandas as pd \n",
    "import numpy as np\n",
    "from tqdm import tqdm\n",
    "tqdm.pandas() # for progress_apply"
   ]
  },
  {
   "cell_type": "code",
   "execution_count": 16,
   "metadata": {},
   "outputs": [],
   "source": [
    "df = pd.read_pickle('assets/processed_companyData.pkl') #to load 123.pkl back to the dataframe df"
   ]
  },
  {
   "cell_type": "code",
   "execution_count": 17,
   "metadata": {},
   "outputs": [],
   "source": [
    "names = df['title'].values"
   ]
  },
  {
   "cell_type": "code",
   "execution_count": 18,
   "metadata": {},
   "outputs": [
    {
     "name": "stdout",
     "output_type": "stream",
     "text": [
      "['BASE_URI', '__class__', '__delattr__', '__dict__', '__dir__', '__doc__', '__eq__', '__format__', '__ge__', '__getattribute__', '__gt__', '__hash__', '__init__', '__init_subclass__', '__le__', '__lt__', '__module__', '__ne__', '__new__', '__reduce__', '__reduce_ex__', '__repr__', '__setattr__', '__sizeof__', '__str__', '__subclasshook__', '__weakref__', 'apikey', 'candidates', 'committees', 'fetch', 'http', 'indexp', 'orgs']\n"
     ]
    }
   ],
   "source": [
    "crp=CRP(get_opensecrets_key()) #makes a CRP object\n",
    "\n",
    "object_methods = [method_name for method_name in dir(crp) if callable(getattr(crp, method_name))]\n",
    "print(dir(crp))"
   ]
  },
  {
   "cell_type": "code",
   "execution_count": 19,
   "metadata": {},
   "outputs": [],
   "source": [
    "# remove commas from names\n",
    "names = [name.replace(',', '') for name in names]"
   ]
  },
  {
   "cell_type": "code",
   "execution_count": 28,
   "metadata": {},
   "outputs": [],
   "source": [
    "def get_os_details(name):\n",
    "    name = name.replace(',', '')\n",
    "    try:\n",
    "        return crp.orgs.get(name)['@attributes']\n",
    "    except:\n",
    "        return np.nan"
   ]
  },
  {
   "cell_type": "code",
   "execution_count": 29,
   "metadata": {},
   "outputs": [
    {
     "name": "stdout",
     "output_type": "stream",
     "text": [
      "{'@attributes': {'orgid': 'D000000115', 'orgname': 'Microsoft Corp'}}\n",
      "{'orgid': 'D000000115', 'orgname': 'Microsoft Corp'}\n"
     ]
    }
   ],
   "source": [
    "print(crp.orgs.get(names[0])) # test\n",
    "print(get_os_details(names[0]))"
   ]
  },
  {
   "cell_type": "code",
   "execution_count": 30,
   "metadata": {},
   "outputs": [
    {
     "name": "stderr",
     "output_type": "stream",
     "text": [
      "100%|██████████| 2982/2982 [1:59:58<00:00,  2.41s/it]  \n"
     ]
    }
   ],
   "source": [
    "df['os_company_details'] = df['title'].progress_apply(get_os_details)"
   ]
  },
  {
   "cell_type": "code",
   "execution_count": 39,
   "metadata": {},
   "outputs": [],
   "source": [
    "# save this dataframe\n",
    "df.to_pickle('assets/processed_companyData_2.pkl') #to save the dataframe df to 123.pkl"
   ]
  },
  {
   "cell_type": "code",
   "execution_count": null,
   "metadata": {},
   "outputs": [],
   "source": []
  }
 ],
 "metadata": {
  "kernelspec": {
   "display_name": "cbase",
   "language": "python",
   "name": "python3"
  },
  "language_info": {
   "codemirror_mode": {
    "name": "ipython",
    "version": 3
   },
   "file_extension": ".py",
   "mimetype": "text/x-python",
   "name": "python",
   "nbconvert_exporter": "python",
   "pygments_lexer": "ipython3",
   "version": "3.9.18"
  }
 },
 "nbformat": 4,
 "nbformat_minor": 2
}
