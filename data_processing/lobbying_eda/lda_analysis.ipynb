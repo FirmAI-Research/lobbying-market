{
 "cells": [
  {
   "cell_type": "markdown",
   "metadata": {},
   "source": []
  },
  {
   "cell_type": "code",
   "execution_count": 23,
   "metadata": {},
   "outputs": [],
   "source": [
    "import os, sys, time\n",
    "import matplotlib as mpl\n",
    "import matplotlib.pyplot as plt\n",
    "import numpy as np\n",
    "import seaborn as sns\n",
    "import pandas as pd\n",
    "from tqdm import tqdm\n",
    "\n",
    "sns.set_style(\"whitegrid\")"
   ]
  },
  {
   "cell_type": "code",
   "execution_count": 24,
   "metadata": {},
   "outputs": [],
   "source": [
    "data_dir = 'LDA_data/Filings_2021/'\n",
    "df = pd.read_csv(data_dir + 'filings_2021_Q1.csv', parse_dates = ['dt_posted'])"
   ]
  },
  {
   "cell_type": "code",
   "execution_count": 27,
   "metadata": {},
   "outputs": [
    {
     "data": {
      "text/plain": [
       "Index(['url', 'filing_uuid', 'filing_type', 'filing_type_display',\n",
       "       'filing_year', 'filing_period', 'filing_period_display',\n",
       "       'filing_document_url', 'filing_document_content_type', 'income',\n",
       "       'expenses', 'expenses_method', 'expenses_method_display',\n",
       "       'posted_by_name', 'dt_posted', 'termination_date', 'registrant_country',\n",
       "       'registrant_ppb_country', 'registrant_address_1',\n",
       "       'registrant_address_2', 'registrant_different_address',\n",
       "       'registrant_city', 'registrant_state', 'registrant_zip', 'registrant',\n",
       "       'client', 'lobbying_activities', 'conviction_disclosures',\n",
       "       'foreign_entities', 'affiliated_organizations'],\n",
       "      dtype='object')"
      ]
     },
     "execution_count": 27,
     "metadata": {},
     "output_type": "execute_result"
    }
   ],
   "source": [
    "df['dt_posted']"
   ]
  },
  {
   "cell_type": "code",
   "execution_count": 5,
   "metadata": {},
   "outputs": [
    {
     "name": "stdout",
     "output_type": "stream",
     "text": [
      "[{'general_issue_code': 'CPI', 'general_issue_code_display': 'Computer Industry', 'description': 'Cyber Commerce is looking to expand their market into the Government space.', 'foreign_entity_issues': '', 'lobbyists': [{'lobbyist': {'id': 58543, 'prefix': None, 'prefix_display': None, 'first_name': 'DANIEL', 'nickname': None, 'middle_name': None, 'last_name': 'MCKEON', 'suffix': None, 'suffix_display': None}, 'covered_position': 'Managing Partner', 'new': False}], 'government_entities': [{'id': 2, 'name': 'HOUSE OF REPRESENTATIVES'}]}, {'general_issue_code': 'DEF', 'general_issue_code_display': 'Defense', 'description': 'Cyber Commerce is looking to expand their market into the government space.', 'foreign_entity_issues': '', 'lobbyists': [{'lobbyist': {'id': 58543, 'prefix': None, 'prefix_display': None, 'first_name': 'DANIEL', 'nickname': None, 'middle_name': None, 'last_name': 'MCKEON', 'suffix': None, 'suffix_display': None}, 'covered_position': 'Managing Partner', 'new': False}], 'government_entities': [{'id': 2, 'name': 'HOUSE OF REPRESENTATIVES'}]}, {'general_issue_code': 'CSP', 'general_issue_code_display': 'Consumer Issues/Safety/Products', 'description': 'Cyber Commerce is looking to expand their market into the Government space.', 'foreign_entity_issues': '', 'lobbyists': [{'lobbyist': {'id': 58543, 'prefix': None, 'prefix_display': None, 'first_name': 'DANIEL', 'nickname': None, 'middle_name': None, 'last_name': 'MCKEON', 'suffix': None, 'suffix_display': None}, 'covered_position': 'Managing Partner', 'new': False}], 'government_entities': [{'id': 2, 'name': 'HOUSE OF REPRESENTATIVES'}]}, {'general_issue_code': 'SCI', 'general_issue_code_display': 'Science/Technology', 'description': 'Cyber Commerce is looking to expand their market into the Government space.', 'foreign_entity_issues': '', 'lobbyists': [{'lobbyist': {'id': 58543, 'prefix': None, 'prefix_display': None, 'first_name': 'DANIEL', 'nickname': None, 'middle_name': None, 'last_name': 'MCKEON', 'suffix': None, 'suffix_display': None}, 'covered_position': 'Managing Partner', 'new': False}], 'government_entities': [{'id': 2, 'name': 'HOUSE OF REPRESENTATIVES'}]}]\n",
      "<class 'str'>\n",
      "[{'general_issue_code': 'CPI', 'general_issue_code_display': 'Computer Industry', 'description': 'Cyber Commerce is looking to expand their market into the Government space.', 'foreign_entity_issues': '', 'lobbyists': [{'lobbyist': {'id': 58543, 'prefix': None, 'prefix_display': None, 'first_name': 'DANIEL', 'nickname': None, 'middle_name': None, 'last_name': 'MCKEON', 'suffix': None, 'suffix_display': None}, 'covered_position': 'Managing Partner', 'new': False}], 'government_entities': [{'id': 2, 'name': 'HOUSE OF REPRESENTATIVES'}]}, {'general_issue_code': 'DEF', 'general_issue_code_display': 'Defense', 'description': 'Cyber Commerce is looking to expand their market into the government space.', 'foreign_entity_issues': '', 'lobbyists': [{'lobbyist': {'id': 58543, 'prefix': None, 'prefix_display': None, 'first_name': 'DANIEL', 'nickname': None, 'middle_name': None, 'last_name': 'MCKEON', 'suffix': None, 'suffix_display': None}, 'covered_position': 'Managing Partner', 'new': False}], 'government_entities': [{'id': 2, 'name': 'HOUSE OF REPRESENTATIVES'}]}, {'general_issue_code': 'CSP', 'general_issue_code_display': 'Consumer Issues/Safety/Products', 'description': 'Cyber Commerce is looking to expand their market into the Government space.', 'foreign_entity_issues': '', 'lobbyists': [{'lobbyist': {'id': 58543, 'prefix': None, 'prefix_display': None, 'first_name': 'DANIEL', 'nickname': None, 'middle_name': None, 'last_name': 'MCKEON', 'suffix': None, 'suffix_display': None}, 'covered_position': 'Managing Partner', 'new': False}], 'government_entities': [{'id': 2, 'name': 'HOUSE OF REPRESENTATIVES'}]}, {'general_issue_code': 'SCI', 'general_issue_code_display': 'Science/Technology', 'description': 'Cyber Commerce is looking to expand their market into the Government space.', 'foreign_entity_issues': '', 'lobbyists': [{'lobbyist': {'id': 58543, 'prefix': None, 'prefix_display': None, 'first_name': 'DANIEL', 'nickname': None, 'middle_name': None, 'last_name': 'MCKEON', 'suffix': None, 'suffix_display': None}, 'covered_position': 'Managing Partner', 'new': False}], 'government_entities': [{'id': 2, 'name': 'HOUSE OF REPRESENTATIVES'}]}]\n",
      "<class 'list'>\n"
     ]
    }
   ],
   "source": [
    "# some column elements are formatted as strings containing a list object\n",
    "# process it so that the elements are lists\n",
    "\n",
    "# example\n",
    "string = df['lobbying_activities'][0]\n",
    "print(string)\n",
    "print(type(string))\n",
    "\n",
    "# use ast.literal_eval to convert string of list to list\n",
    "import ast\n",
    "list_from_string = ast.literal_eval(string) # convert string of list to list\n",
    "print(list_from_string)\n",
    "print(type(list_from_string))"
   ]
  },
  {
   "cell_type": "code",
   "execution_count": 6,
   "metadata": {},
   "outputs": [
    {
     "name": "stderr",
     "output_type": "stream",
     "text": [
      "  0%|          | 0/3 [00:00<?, ?it/s]"
     ]
    },
    {
     "name": "stderr",
     "output_type": "stream",
     "text": [
      "100%|██████████| 3/3 [00:11<00:00,  3.97s/it]\n"
     ]
    }
   ],
   "source": [
    "# format columns whose elements are strings, but are used as list or dict objs\n",
    "keys = ['lobbying_activities', 'client', 'registrant']\n",
    "for k in tqdm(keys):\n",
    "    df[k] = df[k].apply(ast.literal_eval)\n",
    "\n",
    "    # CODE BELOW IS NOT GOOD; LOBBYING ACTIVITIES CAN REPORT ON MORE THAN ONE CATEGORY \n",
    "    # no reason for lobbying_activities to be a list with one element, extract dict inside list\n",
    "    if k == 'lobbying_activities': \n",
    "        df[k] = df['lobbying_activities'].apply(lambda x: x[0])"
   ]
  },
  {
   "cell_type": "code",
   "execution_count": 7,
   "metadata": {},
   "outputs": [],
   "source": [
    "# format expenses and income NANs to be zero\n",
    "keys = ['expenses', 'income']\n",
    "df[keys] = df[keys].fillna(0.)"
   ]
  },
  {
   "cell_type": "code",
   "execution_count": 8,
   "metadata": {},
   "outputs": [],
   "source": [
    "# let's start filtering the data\n",
    "dfc = df.copy()\n",
    "\n",
    "# given time period (covid-19 vaccine delivery), let's see lobbying related to pharmacy\n",
    "is_pha = (df['lobbying_activities'].apply(lambda x: x['general_issue_code']) == 'PHA')\n",
    "dfc = dfc[is_pha]"
   ]
  },
  {
   "cell_type": "code",
   "execution_count": 9,
   "metadata": {},
   "outputs": [
    {
     "data": {
      "text/plain": [
       "array([    0.,     0.,     0., ..., 20000., 22500., 10000.])"
      ]
     },
     "execution_count": 9,
     "metadata": {},
     "output_type": "execute_result"
    }
   ],
   "source": [
    "df.income.values"
   ]
  },
  {
   "cell_type": "code",
   "execution_count": 10,
   "metadata": {},
   "outputs": [],
   "source": [
    "Nrow, Ncol = dfc.shape\n",
    "expense_arr = np.array( [ dfc.expenses.values[n] for n in range(Nrow) if dfc.expenses.values[n] != 0. ] )\n",
    "income_arr = np.array( [ dfc.income.values[n] for n in range(Nrow) if dfc.income.values[n] != 0. ] )"
   ]
  },
  {
   "cell_type": "code",
   "execution_count": 11,
   "metadata": {},
   "outputs": [
    {
     "data": {
      "text/plain": [
       "Text(0.5, 1.0, 'Cumulative Expenses / Income: = 3625309.0 / 4130500.0')"
      ]
     },
     "execution_count": 11,
     "metadata": {},
     "output_type": "execute_result"
    },
    {
     "data": {
      "image/png": "[encoded data removed]",
      "text/plain": [
       "<Figure size 432x288 with 1 Axes>"
      ]
     },
     "metadata": {},
     "output_type": "display_data"
    }
   ],
   "source": [
    "# the following plot shows the total reported expenses / income from lobbying activity from this group\n",
    "sum_exp = expense_arr.sum()\n",
    "sum_inc = income_arr.sum()\n",
    "plt.hist(expense_arr, alpha = 0.5, label = 'Expense')\n",
    "plt.hist(income_arr, alpha = 0.5, label = 'Income')\n",
    "plt.legend()\n",
    "plt.title('Cumulative Expenses / Income: = ' + str(sum_exp) + ' / ' + str(sum_inc) )"
   ]
  },
  {
   "cell_type": "code",
   "execution_count": 12,
   "metadata": {},
   "outputs": [],
   "source": [
    "is_exp = (dfc['expenses'] != 0.)\n",
    "dfc_e = dfc[is_exp] ; dfc_i = dfc[~is_exp]"
   ]
  },
  {
   "cell_type": "code",
   "execution_count": 13,
   "metadata": {},
   "outputs": [
    {
     "name": "stderr",
     "output_type": "stream",
     "text": [
      "/tmp/ipykernel_2656/3918305093.py:1: SettingWithCopyWarning: \n",
      "A value is trying to be set on a copy of a slice from a DataFrame.\n",
      "Try using .loc[row_indexer,col_indexer] = value instead\n",
      "\n",
      "See the caveats in the documentation: https://pandas.pydata.org/pandas-docs/stable/user_guide/indexing.html#returning-a-view-versus-a-copy\n",
      "  dfc_e['name'] = dfc_e['client'].apply(lambda x: x['name'])\n",
      "/tmp/ipykernel_2656/3918305093.py:2: SettingWithCopyWarning: \n",
      "A value is trying to be set on a copy of a slice from a DataFrame.\n",
      "Try using .loc[row_indexer,col_indexer] = value instead\n",
      "\n",
      "See the caveats in the documentation: https://pandas.pydata.org/pandas-docs/stable/user_guide/indexing.html#returning-a-view-versus-a-copy\n",
      "  dfc_i['name'] = dfc_i['client'].apply(lambda x: x['name'])\n"
     ]
    }
   ],
   "source": [
    "dfc_e['name'] = dfc_e['client'].apply(lambda x: x['name'])\n",
    "dfc_i['name'] = dfc_i['client'].apply(lambda x: x['name'])"
   ]
  },
  {
   "cell_type": "code",
   "execution_count": 14,
   "metadata": {},
   "outputs": [
    {
     "name": "stdout",
     "output_type": "stream",
     "text": [
      "['IQVIA' 'FCS FOUNDATION' 'OREXO US, INC.' 'VIATRIS INC' 'ALKERMES, INC.'\n",
      " 'COHERUS BIOSCIENCES' 'OCULAR SCIENCE/OSRX' 'AMPAC FINE CHEMICALS'\n",
      " 'AMAZON.COM (FRA PILLPACK AN AMAZON COMPANY)' 'PHRMA'\n",
      " 'TEVA PHARMACEUTICALS USA, INC.' 'AMGEN' 'WALGREEN CO.'\n",
      " 'EXELA PHARMA SCIENCES' 'TONIX PHARMACEUTICALS'\n",
      " 'NATIONAL ASSOCIATION OF BOARDS OF PHARMACY' 'CVS HEALTH INC'\n",
      " 'ALVOGEN, PHARMA US, INC.' 'DYNAVAX TECHNOLOGIES'\n",
      " \"DR. REDDY'S LABORATORIES, LTD\" 'CONSCIOUS DISCIPLINE'\n",
      " 'LANNETT COMPANY, INC' 'AVET PHARMACEUTICALS' 'ASCENDIS PHARMA, INC.'\n",
      " 'BLINK HEALTH LTD (A BERMUDA LIMITED COMPANY)'\n",
      " 'ENDO PHARMACEUTICALS INC.' 'FOUNDATION CONSUMER HEALTHCARE LLC'\n",
      " 'PHARMACEUTICAL INDUSTRY LABOR MANAGEMENT ASSOCIATION (PILMA)'\n",
      " 'BLUE SHIELD OF CALIFORNIA' 'VANDA PHARMACEUTICALS INC.' '340B HEALTH'\n",
      " 'SUMITOMO PHARMA AMERICA (FORMERLY SUNOVION PHARMACEUTICALS, INC.)'\n",
      " 'VIATRIS INC' 'SORRENTO THERAPEUTICS, INC.'\n",
      " 'BOEHRINGER INGELHEIM USA CORPORATION'\n",
      " 'ALLIANCE FOR PHARMACY COMPOUNDING'\n",
      " 'CANADIAN INTERNATIONAL PHARMACY ASSOCIATION'\n",
      " \"AMERICA'S HEALTH INSURANCE PLANS\" 'BIOTECHNOLOGY INDUSTRY ORGANIZATION'\n",
      " 'LILLY USA, LLC' 'PARAGON BIOSCIENCES, LLC'\n",
      " 'HEINZ STRATEGIES LLC (ON BEHALF OF PILMA)'\n",
      " 'PHARMACEUTICAL INDUSTRY LABOR MANAGEMENT ASSOCIATION'\n",
      " 'PHARMACEUTICAL RESEARCH AND MANUFACTURERS OF AMERICA'\n",
      " 'VENTURE GLOBAL ON BEHALF OF THE PARTNERSHIP FOR SAFE MEDICINES'\n",
      " 'AMERISOURCEBERGEN CORPORATION' 'APPRISS, INC.'\n",
      " 'ANTIMICROBIALS WORKING GROUP' 'AMGEN USA INC.' 'GENENTECH, INC.'\n",
      " 'AMERISOURCEBERGEN CORPORATION'\n",
      " 'PHARMACEUTICAL RESEARCH AND MANUFACTURERS OF AMERICA'\n",
      " 'SANOFI U.S. SERVICES, INC.' 'ACER THERAPEUTICS'\n",
      " 'ASSOCIATION OF AIR MEDICAL SERVICES' 'PFIZER INC.'\n",
      " 'NORIDIAN MUTUAL INSURANCE COMPANY' 'VERDE TECHNOLOGIES'\n",
      " 'ACADEMY OF MANAGED CARE PHARMACY' 'ASTRAZENECA PHARMACEUTICALS LP'\n",
      " 'AMERICAN SOCIETY OF HEMATOLOGY' 'NATIONAL HEMOPHILIA FOUNDATION'\n",
      " 'PETSMART, INC.' 'BIOTECHNOLOGY INNOVATION ORGANIZATION' 'CAREDX, INC.'\n",
      " 'GENENTECH, INC.' 'US WORLDMEDS, LLC' 'ON DEMAND HOLDINGS, INC.'\n",
      " 'PHARMACEUTICAL INDUSTRY LABOR-MANAGEMENT ASSOCIATION'\n",
      " 'PHARMACEUTICAL RESEARCH AND MANUFACTURERS OF AMERICA'\n",
      " 'SUN PHARMACEUTICAL INDUSTRIES, INC.'\n",
      " 'ASSOCIATION OF ACCESSIBLE MEDICINES (FORMERLY KNOWN AS GPHA)'\n",
      " 'AMNEAL PHARMACEUTICALS' 'PHARMA & BIOPHARMA OUTSOURCING ASSOCIATION'\n",
      " 'NEUROCRINE BIOSCIENCES, INC.' 'WALGREEN CO.' 'HORIZON PHARMA'\n",
      " 'AMAG PHARMACEUTICAL' 'HEALTHCARE DISTRIBUTION ALLIANCE'\n",
      " 'AMAG PHARMACEUTICALS INC' 'OVID THERAPEUTICS'\n",
      " 'PHARMACEUTICAL INDUSTRY LABOR-MANAGEMENT ASSOCIATION'\n",
      " 'ASSOCIATION FOR ACCESSIBLE MEDICINES' 'CHIESI USA, INC.'\n",
      " 'HYPOPARATHYROIDISM ASSOCIATION' 'VETERINARY PHARMACIES OF AMERICA, INC.'\n",
      " \"WOMEN'S INTERNATIONAL PHARMACY\" 'SENTRY DATA SYSTEMS'\n",
      " 'PHRMA (ON BEHALF OF WE WORK FOR HEALTH )' 'PHRMA']\n"
     ]
    }
   ],
   "source": [
    "print(dfc_i['name'].values)"
   ]
  },
  {
   "cell_type": "code",
   "execution_count": 15,
   "metadata": {},
   "outputs": [],
   "source": [
    "# strange that we don't see any of the big names under this category\n",
    "# let's add some more categories since Pfizer Inc. performs lobbying under\n",
    "# other categories (more conditioning would be useful if we fix to a certain sector)\n",
    "\n",
    "# let's start filtering the data\n",
    "dfc = df.copy()\n",
    "\n",
    "# given time period (covid-19), let's see lobbying related to pharmacy\n",
    "is_code = (df['lobbying_activities'].apply(lambda x: (x['general_issue_code']) in ['PHA', 'HCR'] ))\n",
    "dfc = dfc[is_code]"
   ]
  },
  {
   "cell_type": "code",
   "execution_count": 16,
   "metadata": {},
   "outputs": [],
   "source": [
    "Nrow, Ncol = dfc.shape\n",
    "expense_arr = np.array( [ dfc.expenses.values[n] for n in range(Nrow) if dfc.expenses.values[n] != 0. ] )\n",
    "income_arr = np.array( [ dfc.income.values[n] for n in range(Nrow) if dfc.income.values[n] != 0. ] )"
   ]
  },
  {
   "cell_type": "code",
   "execution_count": 17,
   "metadata": {},
   "outputs": [
    {
     "data": {
      "text/plain": [
       "Text(0.5, 1.0, 'Cumulative Expenses / Income: = 59551769.0 / 59489672.0')"
      ]
     },
     "execution_count": 17,
     "metadata": {},
     "output_type": "execute_result"
    },
    {
     "data": {
      "image/png": "[encoded data removed]",
      "text/plain": [
       "<Figure size 432x288 with 1 Axes>"
      ]
     },
     "metadata": {},
     "output_type": "display_data"
    }
   ],
   "source": [
    "# the following plot shows the total reported expenses / income from lobbying activity from this group\n",
    "sum_exp = expense_arr.sum()\n",
    "sum_inc = income_arr.sum()\n",
    "plt.hist(expense_arr, alpha = 0.5, label = 'Expense', log = True)\n",
    "plt.hist(income_arr, alpha = 0.5, label = 'Income', log = True)\n",
    "plt.legend()\n",
    "plt.title('Cumulative Expenses / Income: = ' + str(sum_exp) + ' / ' + str(sum_inc) )"
   ]
  },
  {
   "cell_type": "code",
   "execution_count": 18,
   "metadata": {},
   "outputs": [
    {
     "data": {
      "text/plain": [
       "1        THE PICARD GROUP OBO EMERGENCY CARE PARTNERS, LLC\n",
       "10                     HANDCRAFTED SOAP AND COSMETIC GUILD\n",
       "12                     ILLINOIS HOMECARE & HOSPICE COUNCIL\n",
       "24                                          DOUGLAS COUNTY\n",
       "28       HADASSAH, THE WOMEN'S ZIONIST ORGANIZATION OF ...\n",
       "                               ...                        \n",
       "15567                                     EPIGENOMICS INC.\n",
       "15579    OKLAHOMA STATE UNIVERSITY CENTER FOR HEALTH SC...\n",
       "15585                                            HC LOGICS\n",
       "15587               UNIVERSITY HOSPITAL-NEWARK, NEW JERSEY\n",
       "15589                  PRIMO CENTER FOR WOMEN AND CHILDREN\n",
       "Name: name, Length: 2021, dtype: object"
      ]
     },
     "execution_count": 18,
     "metadata": {},
     "output_type": "execute_result"
    }
   ],
   "source": [
    "dfc['name'] = dfc['client'].apply(lambda x: x['name'])\n",
    "dfc['name']"
   ]
  },
  {
   "cell_type": "code",
   "execution_count": 19,
   "metadata": {},
   "outputs": [],
   "source": [
    "# given time period (covid-19), let's see lobbying related to pharmacy\n",
    "is_pfizer = ( dfc['name'] == 'PFIZER, INC.')\n",
    "dfc = dfc[is_pfizer]"
   ]
  },
  {
   "cell_type": "code",
   "execution_count": 20,
   "metadata": {},
   "outputs": [
    {
     "data": {
      "text/plain": [
       "13811    0.0\n",
       "Name: expenses, dtype: float64"
      ]
     },
     "execution_count": 20,
     "metadata": {},
     "output_type": "execute_result"
    }
   ],
   "source": [
    "dfc['expenses']"
   ]
  },
  {
   "cell_type": "code",
   "execution_count": null,
   "metadata": {},
   "outputs": [],
   "source": []
  }
 ],
 "metadata": {
  "kernelspec": {
   "display_name": "erdos_sp_2024",
   "language": "python",
   "name": "python3"
  },
  "language_info": {
   "codemirror_mode": {
    "name": "ipython",
    "version": 3
   },
   "file_extension": ".py",
   "mimetype": "text/x-python",
   "name": "python",
   "nbconvert_exporter": "python",
   "pygments_lexer": "ipython3",
   "version": "3.9.12"
  }
 },
 "nbformat": 4,
 "nbformat_minor": 2
}
