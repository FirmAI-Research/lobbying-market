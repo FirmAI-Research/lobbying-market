{
 "cells": [
  {
   "cell_type": "code",
   "execution_count": 4,
   "metadata": {},
   "outputs": [],
   "source": [
    "import os, sys, time\n",
    "import matplotlib as mpl\n",
    "import matplotlib.pyplot as plt\n",
    "import numpy as np\n",
    "import seaborn as sns\n",
    "import pandas as pd\n",
    "from tqdm import tqdm\n",
    "\n",
    "sns.set_style(\"whitegrid\")"
   ]
  },
  {
   "cell_type": "code",
   "execution_count": 5,
   "metadata": {},
   "outputs": [],
   "source": [
    "data_dir = '../LDA_data/Filings_2021/'\n",
    "df = pd.read_csv(data_dir + 'filings_2021_Q1.csv', parse_dates = ['dt_posted'])"
   ]
  },
  {
   "cell_type": "code",
   "execution_count": 6,
   "metadata": {},
   "outputs": [],
   "source": [
    "import sys\n",
    "sys.path.append('../')\n",
    "from utils.preprocessing import preprocess_data"
   ]
  },
  {
   "cell_type": "code",
   "execution_count": 7,
   "metadata": {},
   "outputs": [
    {
     "name": "stderr",
     "output_type": "stream",
     "text": [
      "string -> list/dict: 100%|██████████| 3/3 [00:07<00:00,  2.56s/it]\n",
      "100%|██████████| 16098/16098 [00:00<00:00, 2668349.11it/s]\n",
      "issues -> 0/1s: 100%|██████████| 79/79 [00:00<00:00, 136.17it/s]\n",
      "client keys -> columns:   0%|          | 0/16 [00:00<?, ?it/s]/mnt/c/Users/Edwar/Documents/github/lobbying-market/lobbying_eda/../utils/preprocessing.py:40: PerformanceWarning: DataFrame is highly fragmented.  This is usually the result of calling `frame.insert` many times, which has poor performance.  Consider joining all columns at once using pd.concat(axis=1) instead. To get a de-fragmented frame, use `newframe = frame.copy()`\n",
      "  df[col_name] = df['client'].apply(lambda x: x[k])\n",
      "/mnt/c/Users/Edwar/Documents/github/lobbying-market/lobbying_eda/../utils/preprocessing.py:40: PerformanceWarning: DataFrame is highly fragmented.  This is usually the result of calling `frame.insert` many times, which has poor performance.  Consider joining all columns at once using pd.concat(axis=1) instead. To get a de-fragmented frame, use `newframe = frame.copy()`\n",
      "  df[col_name] = df['client'].apply(lambda x: x[k])\n",
      "/mnt/c/Users/Edwar/Documents/github/lobbying-market/lobbying_eda/../utils/preprocessing.py:40: PerformanceWarning: DataFrame is highly fragmented.  This is usually the result of calling `frame.insert` many times, which has poor performance.  Consider joining all columns at once using pd.concat(axis=1) instead. To get a de-fragmented frame, use `newframe = frame.copy()`\n",
      "  df[col_name] = df['client'].apply(lambda x: x[k])\n",
      "client keys -> columns: 100%|██████████| 16/16 [00:00<00:00, 171.99it/s]\n",
      "registrant keys -> columns:   0%|          | 0/20 [00:00<?, ?it/s]/mnt/c/Users/Edwar/Documents/github/lobbying-market/lobbying_eda/../utils/preprocessing.py:46: PerformanceWarning: DataFrame is highly fragmented.  This is usually the result of calling `frame.insert` many times, which has poor performance.  Consider joining all columns at once using pd.concat(axis=1) instead. To get a de-fragmented frame, use `newframe = frame.copy()`\n",
      "  df[col_name] = df['registrant'].apply(lambda x: x[k])\n",
      "/mnt/c/Users/Edwar/Documents/github/lobbying-market/lobbying_eda/../utils/preprocessing.py:46: PerformanceWarning: DataFrame is highly fragmented.  This is usually the result of calling `frame.insert` many times, which has poor performance.  Consider joining all columns at once using pd.concat(axis=1) instead. To get a de-fragmented frame, use `newframe = frame.copy()`\n",
      "  df[col_name] = df['registrant'].apply(lambda x: x[k])\n",
      "/mnt/c/Users/Edwar/Documents/github/lobbying-market/lobbying_eda/../utils/preprocessing.py:46: PerformanceWarning: DataFrame is highly fragmented.  This is usually the result of calling `frame.insert` many times, which has poor performance.  Consider joining all columns at once using pd.concat(axis=1) instead. To get a de-fragmented frame, use `newframe = frame.copy()`\n",
      "  df[col_name] = df['registrant'].apply(lambda x: x[k])\n",
      "/mnt/c/Users/Edwar/Documents/github/lobbying-market/lobbying_eda/../utils/preprocessing.py:46: PerformanceWarning: DataFrame is highly fragmented.  This is usually the result of calling `frame.insert` many times, which has poor performance.  Consider joining all columns at once using pd.concat(axis=1) instead. To get a de-fragmented frame, use `newframe = frame.copy()`\n",
      "  df[col_name] = df['registrant'].apply(lambda x: x[k])\n",
      "/mnt/c/Users/Edwar/Documents/github/lobbying-market/lobbying_eda/../utils/preprocessing.py:46: PerformanceWarning: DataFrame is highly fragmented.  This is usually the result of calling `frame.insert` many times, which has poor performance.  Consider joining all columns at once using pd.concat(axis=1) instead. To get a de-fragmented frame, use `newframe = frame.copy()`\n",
      "  df[col_name] = df['registrant'].apply(lambda x: x[k])\n",
      "/mnt/c/Users/Edwar/Documents/github/lobbying-market/lobbying_eda/../utils/preprocessing.py:46: PerformanceWarning: DataFrame is highly fragmented.  This is usually the result of calling `frame.insert` many times, which has poor performance.  Consider joining all columns at once using pd.concat(axis=1) instead. To get a de-fragmented frame, use `newframe = frame.copy()`\n",
      "  df[col_name] = df['registrant'].apply(lambda x: x[k])\n",
      "/mnt/c/Users/Edwar/Documents/github/lobbying-market/lobbying_eda/../utils/preprocessing.py:46: PerformanceWarning: DataFrame is highly fragmented.  This is usually the result of calling `frame.insert` many times, which has poor performance.  Consider joining all columns at once using pd.concat(axis=1) instead. To get a de-fragmented frame, use `newframe = frame.copy()`\n",
      "  df[col_name] = df['registrant'].apply(lambda x: x[k])\n",
      "/mnt/c/Users/Edwar/Documents/github/lobbying-market/lobbying_eda/../utils/preprocessing.py:46: PerformanceWarning: DataFrame is highly fragmented.  This is usually the result of calling `frame.insert` many times, which has poor performance.  Consider joining all columns at once using pd.concat(axis=1) instead. To get a de-fragmented frame, use `newframe = frame.copy()`\n",
      "  df[col_name] = df['registrant'].apply(lambda x: x[k])\n",
      "/mnt/c/Users/Edwar/Documents/github/lobbying-market/lobbying_eda/../utils/preprocessing.py:46: PerformanceWarning: DataFrame is highly fragmented.  This is usually the result of calling `frame.insert` many times, which has poor performance.  Consider joining all columns at once using pd.concat(axis=1) instead. To get a de-fragmented frame, use `newframe = frame.copy()`\n",
      "  df[col_name] = df['registrant'].apply(lambda x: x[k])\n",
      "/mnt/c/Users/Edwar/Documents/github/lobbying-market/lobbying_eda/../utils/preprocessing.py:46: PerformanceWarning: DataFrame is highly fragmented.  This is usually the result of calling `frame.insert` many times, which has poor performance.  Consider joining all columns at once using pd.concat(axis=1) instead. To get a de-fragmented frame, use `newframe = frame.copy()`\n",
      "  df[col_name] = df['registrant'].apply(lambda x: x[k])\n",
      "/mnt/c/Users/Edwar/Documents/github/lobbying-market/lobbying_eda/../utils/preprocessing.py:46: PerformanceWarning: DataFrame is highly fragmented.  This is usually the result of calling `frame.insert` many times, which has poor performance.  Consider joining all columns at once using pd.concat(axis=1) instead. To get a de-fragmented frame, use `newframe = frame.copy()`\n",
      "  df[col_name] = df['registrant'].apply(lambda x: x[k])\n",
      "/mnt/c/Users/Edwar/Documents/github/lobbying-market/lobbying_eda/../utils/preprocessing.py:46: PerformanceWarning: DataFrame is highly fragmented.  This is usually the result of calling `frame.insert` many times, which has poor performance.  Consider joining all columns at once using pd.concat(axis=1) instead. To get a de-fragmented frame, use `newframe = frame.copy()`\n",
      "  df[col_name] = df['registrant'].apply(lambda x: x[k])\n",
      "/mnt/c/Users/Edwar/Documents/github/lobbying-market/lobbying_eda/../utils/preprocessing.py:46: PerformanceWarning: DataFrame is highly fragmented.  This is usually the result of calling `frame.insert` many times, which has poor performance.  Consider joining all columns at once using pd.concat(axis=1) instead. To get a de-fragmented frame, use `newframe = frame.copy()`\n",
      "  df[col_name] = df['registrant'].apply(lambda x: x[k])\n",
      "/mnt/c/Users/Edwar/Documents/github/lobbying-market/lobbying_eda/../utils/preprocessing.py:46: PerformanceWarning: DataFrame is highly fragmented.  This is usually the result of calling `frame.insert` many times, which has poor performance.  Consider joining all columns at once using pd.concat(axis=1) instead. To get a de-fragmented frame, use `newframe = frame.copy()`\n",
      "  df[col_name] = df['registrant'].apply(lambda x: x[k])\n",
      "/mnt/c/Users/Edwar/Documents/github/lobbying-market/lobbying_eda/../utils/preprocessing.py:46: PerformanceWarning: DataFrame is highly fragmented.  This is usually the result of calling `frame.insert` many times, which has poor performance.  Consider joining all columns at once using pd.concat(axis=1) instead. To get a de-fragmented frame, use `newframe = frame.copy()`\n",
      "  df[col_name] = df['registrant'].apply(lambda x: x[k])\n",
      "registrant keys -> columns:  75%|███████▌  | 15/20 [00:00<00:00, 142.40it/s]/mnt/c/Users/Edwar/Documents/github/lobbying-market/lobbying_eda/../utils/preprocessing.py:46: PerformanceWarning: DataFrame is highly fragmented.  This is usually the result of calling `frame.insert` many times, which has poor performance.  Consider joining all columns at once using pd.concat(axis=1) instead. To get a de-fragmented frame, use `newframe = frame.copy()`\n",
      "  df[col_name] = df['registrant'].apply(lambda x: x[k])\n",
      "/mnt/c/Users/Edwar/Documents/github/lobbying-market/lobbying_eda/../utils/preprocessing.py:46: PerformanceWarning: DataFrame is highly fragmented.  This is usually the result of calling `frame.insert` many times, which has poor performance.  Consider joining all columns at once using pd.concat(axis=1) instead. To get a de-fragmented frame, use `newframe = frame.copy()`\n",
      "  df[col_name] = df['registrant'].apply(lambda x: x[k])\n",
      "/mnt/c/Users/Edwar/Documents/github/lobbying-market/lobbying_eda/../utils/preprocessing.py:46: PerformanceWarning: DataFrame is highly fragmented.  This is usually the result of calling `frame.insert` many times, which has poor performance.  Consider joining all columns at once using pd.concat(axis=1) instead. To get a de-fragmented frame, use `newframe = frame.copy()`\n",
      "  df[col_name] = df['registrant'].apply(lambda x: x[k])\n",
      "/mnt/c/Users/Edwar/Documents/github/lobbying-market/lobbying_eda/../utils/preprocessing.py:46: PerformanceWarning: DataFrame is highly fragmented.  This is usually the result of calling `frame.insert` many times, which has poor performance.  Consider joining all columns at once using pd.concat(axis=1) instead. To get a de-fragmented frame, use `newframe = frame.copy()`\n",
      "  df[col_name] = df['registrant'].apply(lambda x: x[k])\n",
      "/mnt/c/Users/Edwar/Documents/github/lobbying-market/lobbying_eda/../utils/preprocessing.py:46: PerformanceWarning: DataFrame is highly fragmented.  This is usually the result of calling `frame.insert` many times, which has poor performance.  Consider joining all columns at once using pd.concat(axis=1) instead. To get a de-fragmented frame, use `newframe = frame.copy()`\n",
      "  df[col_name] = df['registrant'].apply(lambda x: x[k])\n",
      "registrant keys -> columns: 100%|██████████| 20/20 [00:00<00:00, 141.05it/s]\n"
     ]
    }
   ],
   "source": [
    "data_dir = '../LDA_data/Filings_2021/'\n",
    "df = pd.read_csv(data_dir + 'filings_2021_Q1.csv', parse_dates = ['dt_posted'])\n",
    "df = preprocess_data(df)"
   ]
  }
 ],
 "metadata": {
  "kernelspec": {
   "display_name": "cbase",
   "language": "python",
   "name": "python3"
  },
  "language_info": {
   "codemirror_mode": {
    "name": "ipython",
    "version": 3
   },
   "file_extension": ".py",
   "mimetype": "text/x-python",
   "name": "python",
   "nbconvert_exporter": "python",
   "pygments_lexer": "ipython3",
   "version": "3.9.18"
  }
 },
 "nbformat": 4,
 "nbformat_minor": 2
}
