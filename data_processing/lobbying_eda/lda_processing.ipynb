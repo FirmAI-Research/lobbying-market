{
 "cells": [
  {
   "cell_type": "code",
   "execution_count": 1,
   "metadata": {},
   "outputs": [
    {
     "name": "stderr",
     "output_type": "stream",
     "text": [
      "/home/edr/mambaforge/envs/cbase/lib/python3.9/site-packages/pandas/core/computation/expressions.py:21: UserWarning: Pandas requires version '2.8.4' or newer of 'numexpr' (version '2.7.3' currently installed).\n",
      "  from pandas.core.computation.check import NUMEXPR_INSTALLED\n",
      "/home/edr/mambaforge/envs/cbase/lib/python3.9/site-packages/pandas/core/arrays/masked.py:60: UserWarning: Pandas requires version '1.3.6' or newer of 'bottleneck' (version '1.3.2' currently installed).\n",
      "  from pandas.core import (\n"
     ]
    }
   ],
   "source": [
    "import os, sys, time\n",
    "import matplotlib as mpl\n",
    "import matplotlib.pyplot as plt\n",
    "import numpy as np\n",
    "import seaborn as sns\n",
    "import pandas as pd\n",
    "from tqdm import tqdm\n",
    "\n",
    "sns.set_style(\"whitegrid\")"
   ]
  },
  {
   "cell_type": "code",
   "execution_count": 2,
   "metadata": {},
   "outputs": [],
   "source": [
    "data_dir = 'LDA_data/Filings_2021/'\n",
    "df = pd.read_csv(data_dir + 'filings_2021_Q1.csv', parse_dates = ['dt_posted'])"
   ]
  },
  {
   "cell_type": "code",
   "execution_count": 3,
   "metadata": {},
   "outputs": [
    {
     "name": "stderr",
     "output_type": "stream",
     "text": [
      "100%|██████████| 3/3 [00:09<00:00,  3.10s/it]\n"
     ]
    }
   ],
   "source": [
    "# format columns whose elements are strings, but are used as list or dict objs\n",
    "import ast\n",
    "keys = ['lobbying_activities', 'client', 'registrant']\n",
    "for k in tqdm(keys):\n",
    "    df[k] = df[k].apply(ast.literal_eval)"
   ]
  },
  {
   "cell_type": "code",
   "execution_count": 4,
   "metadata": {},
   "outputs": [
    {
     "data": {
      "text/plain": [
       "'WAS'"
      ]
     },
     "execution_count": 4,
     "metadata": {},
     "output_type": "execute_result"
    }
   ],
   "source": [
    "df['lobbying_activities'][0][0]['general_issue_code']"
   ]
  },
  {
   "cell_type": "code",
   "execution_count": 5,
   "metadata": {},
   "outputs": [],
   "source": [
    "df['issue_codes'] = df['lobbying_activities'].apply(lambda x: [i['general_issue_code'] for i in x])\n",
    "\n",
    "# obtain all unique issue codes in a list\n",
    "issue_codes = []\n",
    "for i in df['issue_codes']:\n",
    "    issue_codes.extend(i)\n",
    "issue_codes = list(set(issue_codes))"
   ]
  },
  {
   "cell_type": "code",
   "execution_count": 6,
   "metadata": {},
   "outputs": [
    {
     "name": "stderr",
     "output_type": "stream",
     "text": [
      "100%|██████████| 79/79 [00:00<00:00, 79.12it/s]\n"
     ]
    }
   ],
   "source": [
    "# convert issue codes to 0s or 1s\n",
    "for code in tqdm(issue_codes):\n",
    "    df[code] = df['issue_codes'].apply(lambda x: int(code in x) )"
   ]
  },
  {
   "cell_type": "code",
   "execution_count": 8,
   "metadata": {},
   "outputs": [
    {
     "name": "stderr",
     "output_type": "stream",
     "text": [
      "/tmp/ipykernel_1961/3312508147.py:5: PerformanceWarning: DataFrame is highly fragmented.  This is usually the result of calling `frame.insert` many times, which has poor performance.  Consider joining all columns at once using pd.concat(axis=1) instead. To get a de-fragmented frame, use `newframe = frame.copy()`\n",
      "  df[col_id] = df['client'].apply(lambda x: x[k])\n",
      "/tmp/ipykernel_1961/3312508147.py:5: PerformanceWarning: DataFrame is highly fragmented.  This is usually the result of calling `frame.insert` many times, which has poor performance.  Consider joining all columns at once using pd.concat(axis=1) instead. To get a de-fragmented frame, use `newframe = frame.copy()`\n",
      "  df[col_id] = df['client'].apply(lambda x: x[k])\n"
     ]
    },
    {
     "name": "stderr",
     "output_type": "stream",
     "text": [
      "/tmp/ipykernel_1961/3312508147.py:5: PerformanceWarning: DataFrame is highly fragmented.  This is usually the result of calling `frame.insert` many times, which has poor performance.  Consider joining all columns at once using pd.concat(axis=1) instead. To get a de-fragmented frame, use `newframe = frame.copy()`\n",
      "  df[col_id] = df['client'].apply(lambda x: x[k])\n",
      "/tmp/ipykernel_1961/3312508147.py:10: PerformanceWarning: DataFrame is highly fragmented.  This is usually the result of calling `frame.insert` many times, which has poor performance.  Consider joining all columns at once using pd.concat(axis=1) instead. To get a de-fragmented frame, use `newframe = frame.copy()`\n",
      "  df[col_id] = df['registrant'].apply(lambda x: x[k])\n",
      "/tmp/ipykernel_1961/3312508147.py:10: PerformanceWarning: DataFrame is highly fragmented.  This is usually the result of calling `frame.insert` many times, which has poor performance.  Consider joining all columns at once using pd.concat(axis=1) instead. To get a de-fragmented frame, use `newframe = frame.copy()`\n",
      "  df[col_id] = df['registrant'].apply(lambda x: x[k])\n",
      "/tmp/ipykernel_1961/3312508147.py:10: PerformanceWarning: DataFrame is highly fragmented.  This is usually the result of calling `frame.insert` many times, which has poor performance.  Consider joining all columns at once using pd.concat(axis=1) instead. To get a de-fragmented frame, use `newframe = frame.copy()`\n",
      "  df[col_id] = df['registrant'].apply(lambda x: x[k])\n",
      "/tmp/ipykernel_1961/3312508147.py:10: PerformanceWarning: DataFrame is highly fragmented.  This is usually the result of calling `frame.insert` many times, which has poor performance.  Consider joining all columns at once using pd.concat(axis=1) instead. To get a de-fragmented frame, use `newframe = frame.copy()`\n",
      "  df[col_id] = df['registrant'].apply(lambda x: x[k])\n",
      "/tmp/ipykernel_1961/3312508147.py:10: PerformanceWarning: DataFrame is highly fragmented.  This is usually the result of calling `frame.insert` many times, which has poor performance.  Consider joining all columns at once using pd.concat(axis=1) instead. To get a de-fragmented frame, use `newframe = frame.copy()`\n",
      "  df[col_id] = df['registrant'].apply(lambda x: x[k])\n",
      "/tmp/ipykernel_1961/3312508147.py:10: PerformanceWarning: DataFrame is highly fragmented.  This is usually the result of calling `frame.insert` many times, which has poor performance.  Consider joining all columns at once using pd.concat(axis=1) instead. To get a de-fragmented frame, use `newframe = frame.copy()`\n",
      "  df[col_id] = df['registrant'].apply(lambda x: x[k])\n",
      "/tmp/ipykernel_1961/3312508147.py:10: PerformanceWarning: DataFrame is highly fragmented.  This is usually the result of calling `frame.insert` many times, which has poor performance.  Consider joining all columns at once using pd.concat(axis=1) instead. To get a de-fragmented frame, use `newframe = frame.copy()`\n",
      "  df[col_id] = df['registrant'].apply(lambda x: x[k])\n",
      "/tmp/ipykernel_1961/3312508147.py:10: PerformanceWarning: DataFrame is highly fragmented.  This is usually the result of calling `frame.insert` many times, which has poor performance.  Consider joining all columns at once using pd.concat(axis=1) instead. To get a de-fragmented frame, use `newframe = frame.copy()`\n",
      "  df[col_id] = df['registrant'].apply(lambda x: x[k])\n",
      "/tmp/ipykernel_1961/3312508147.py:10: PerformanceWarning: DataFrame is highly fragmented.  This is usually the result of calling `frame.insert` many times, which has poor performance.  Consider joining all columns at once using pd.concat(axis=1) instead. To get a de-fragmented frame, use `newframe = frame.copy()`\n",
      "  df[col_id] = df['registrant'].apply(lambda x: x[k])\n",
      "/tmp/ipykernel_1961/3312508147.py:10: PerformanceWarning: DataFrame is highly fragmented.  This is usually the result of calling `frame.insert` many times, which has poor performance.  Consider joining all columns at once using pd.concat(axis=1) instead. To get a de-fragmented frame, use `newframe = frame.copy()`\n",
      "  df[col_id] = df['registrant'].apply(lambda x: x[k])\n",
      "/tmp/ipykernel_1961/3312508147.py:10: PerformanceWarning: DataFrame is highly fragmented.  This is usually the result of calling `frame.insert` many times, which has poor performance.  Consider joining all columns at once using pd.concat(axis=1) instead. To get a de-fragmented frame, use `newframe = frame.copy()`\n",
      "  df[col_id] = df['registrant'].apply(lambda x: x[k])\n",
      "/tmp/ipykernel_1961/3312508147.py:10: PerformanceWarning: DataFrame is highly fragmented.  This is usually the result of calling `frame.insert` many times, which has poor performance.  Consider joining all columns at once using pd.concat(axis=1) instead. To get a de-fragmented frame, use `newframe = frame.copy()`\n",
      "  df[col_id] = df['registrant'].apply(lambda x: x[k])\n",
      "/tmp/ipykernel_1961/3312508147.py:10: PerformanceWarning: DataFrame is highly fragmented.  This is usually the result of calling `frame.insert` many times, which has poor performance.  Consider joining all columns at once using pd.concat(axis=1) instead. To get a de-fragmented frame, use `newframe = frame.copy()`\n",
      "  df[col_id] = df['registrant'].apply(lambda x: x[k])\n",
      "/tmp/ipykernel_1961/3312508147.py:10: PerformanceWarning: DataFrame is highly fragmented.  This is usually the result of calling `frame.insert` many times, which has poor performance.  Consider joining all columns at once using pd.concat(axis=1) instead. To get a de-fragmented frame, use `newframe = frame.copy()`\n",
      "  df[col_id] = df['registrant'].apply(lambda x: x[k])\n",
      "/tmp/ipykernel_1961/3312508147.py:10: PerformanceWarning: DataFrame is highly fragmented.  This is usually the result of calling `frame.insert` many times, which has poor performance.  Consider joining all columns at once using pd.concat(axis=1) instead. To get a de-fragmented frame, use `newframe = frame.copy()`\n",
      "  df[col_id] = df['registrant'].apply(lambda x: x[k])\n",
      "/tmp/ipykernel_1961/3312508147.py:10: PerformanceWarning: DataFrame is highly fragmented.  This is usually the result of calling `frame.insert` many times, which has poor performance.  Consider joining all columns at once using pd.concat(axis=1) instead. To get a de-fragmented frame, use `newframe = frame.copy()`\n",
      "  df[col_id] = df['registrant'].apply(lambda x: x[k])\n",
      "/tmp/ipykernel_1961/3312508147.py:10: PerformanceWarning: DataFrame is highly fragmented.  This is usually the result of calling `frame.insert` many times, which has poor performance.  Consider joining all columns at once using pd.concat(axis=1) instead. To get a de-fragmented frame, use `newframe = frame.copy()`\n",
      "  df[col_id] = df['registrant'].apply(lambda x: x[k])\n",
      "/tmp/ipykernel_1961/3312508147.py:10: PerformanceWarning: DataFrame is highly fragmented.  This is usually the result of calling `frame.insert` many times, which has poor performance.  Consider joining all columns at once using pd.concat(axis=1) instead. To get a de-fragmented frame, use `newframe = frame.copy()`\n",
      "  df[col_id] = df['registrant'].apply(lambda x: x[k])\n",
      "/tmp/ipykernel_1961/3312508147.py:10: PerformanceWarning: DataFrame is highly fragmented.  This is usually the result of calling `frame.insert` many times, which has poor performance.  Consider joining all columns at once using pd.concat(axis=1) instead. To get a de-fragmented frame, use `newframe = frame.copy()`\n",
      "  df[col_id] = df['registrant'].apply(lambda x: x[k])\n",
      "/tmp/ipykernel_1961/3312508147.py:10: PerformanceWarning: DataFrame is highly fragmented.  This is usually the result of calling `frame.insert` many times, which has poor performance.  Consider joining all columns at once using pd.concat(axis=1) instead. To get a de-fragmented frame, use `newframe = frame.copy()`\n",
      "  df[col_id] = df['registrant'].apply(lambda x: x[k])\n"
     ]
    }
   ],
   "source": [
    "# turn client keys into columns\n",
    "client_keys = list(df['client'][0].keys())\n",
    "for k in client_keys:\n",
    "    col_name = 'c_' + k\n",
    "    df[col_name] = df['client'].apply(lambda x: x[k])\n",
    "\n",
    "registrant_keys = list(df['registrant'][0].keys())\n",
    "for k in registrant_keys:\n",
    "    col_name = 'r_' + k\n",
    "    df[col_name] = df['registrant'].apply(lambda x: x[k])"
   ]
  },
  {
   "cell_type": "code",
   "execution_count": 11,
   "metadata": {},
   "outputs": [
    {
     "data": {
      "text/plain": [
       "Index(['url', 'filing_uuid', 'filing_type', 'filing_type_display',\n",
       "       'filing_year', 'filing_period', 'filing_period_display',\n",
       "       'filing_document_url', 'filing_document_content_type', 'income',\n",
       "       ...\n",
       "       'r_state', 'r_state_display', 'r_zip', 'r_country', 'r_country_display',\n",
       "       'r_ppb_country', 'r_ppb_country_display', 'r_contact_name',\n",
       "       'r_contact_telephone', 'r_dt_updated'],\n",
       "      dtype='object', length=146)"
      ]
     },
     "execution_count": 11,
     "metadata": {},
     "output_type": "execute_result"
    }
   ],
   "source": [
    "df.keys()"
   ]
  }
 ],
 "metadata": {
  "kernelspec": {
   "display_name": "cbase",
   "language": "python",
   "name": "python3"
  },
  "language_info": {
   "codemirror_mode": {
    "name": "ipython",
    "version": 3
   },
   "file_extension": ".py",
   "mimetype": "text/x-python",
   "name": "python",
   "nbconvert_exporter": "python",
   "pygments_lexer": "ipython3",
   "version": "3.9.18"
  }
 },
 "nbformat": 4,
 "nbformat_minor": 2
}
