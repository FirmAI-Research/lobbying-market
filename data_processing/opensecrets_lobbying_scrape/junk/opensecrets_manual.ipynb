{
 "cells": [
  {
   "cell_type": "code",
   "execution_count": 1,
   "metadata": {},
   "outputs": [
    {
     "name": "stdout",
     "output_type": "stream",
     "text": [
      "Requirement already satisfied: selenium in /home/edr/mambaforge/envs/cbase/lib/python3.9/site-packages (4.19.0)\n",
      "Requirement already satisfied: trio~=0.17 in /home/edr/mambaforge/envs/cbase/lib/python3.9/site-packages (from selenium) (0.25.0)\n",
      "Requirement already satisfied: urllib3[socks]<3,>=1.26 in /home/edr/mambaforge/envs/cbase/lib/python3.9/site-packages (from selenium) (1.26.7)\n",
      "Requirement already satisfied: typing_extensions>=4.9.0 in /home/edr/mambaforge/envs/cbase/lib/python3.9/site-packages (from selenium) (4.10.0)\n",
      "Requirement already satisfied: certifi>=2021.10.8 in /home/edr/mambaforge/envs/cbase/lib/python3.9/site-packages (from selenium) (2024.2.2)\n",
      "Requirement already satisfied: trio-websocket~=0.9 in /home/edr/mambaforge/envs/cbase/lib/python3.9/site-packages (from selenium) (0.11.1)\n",
      "Requirement already satisfied: sortedcontainers in /home/edr/mambaforge/envs/cbase/lib/python3.9/site-packages (from trio~=0.17->selenium) (2.4.0)\n",
      "Requirement already satisfied: sniffio>=1.3.0 in /home/edr/mambaforge/envs/cbase/lib/python3.9/site-packages (from trio~=0.17->selenium) (1.3.1)\n",
      "Requirement already satisfied: outcome in /home/edr/mambaforge/envs/cbase/lib/python3.9/site-packages (from trio~=0.17->selenium) (1.3.0.post0)\n",
      "Requirement already satisfied: exceptiongroup in /home/edr/mambaforge/envs/cbase/lib/python3.9/site-packages (from trio~=0.17->selenium) (1.2.0)\n",
      "Requirement already satisfied: idna in /home/edr/mambaforge/envs/cbase/lib/python3.9/site-packages (from trio~=0.17->selenium) (3.2)\n",
      "Requirement already satisfied: attrs>=23.2.0 in /home/edr/mambaforge/envs/cbase/lib/python3.9/site-packages (from trio~=0.17->selenium) (23.2.0)\n",
      "Requirement already satisfied: wsproto>=0.14 in /home/edr/mambaforge/envs/cbase/lib/python3.9/site-packages (from trio-websocket~=0.9->selenium) (1.2.0)\n",
      "Requirement already satisfied: PySocks!=1.5.7,<2.0,>=1.5.6 in /home/edr/mambaforge/envs/cbase/lib/python3.9/site-packages (from urllib3[socks]<3,>=1.26->selenium) (1.7.1)\n",
      "Requirement already satisfied: h11<1,>=0.9.0 in /home/edr/mambaforge/envs/cbase/lib/python3.9/site-packages (from wsproto>=0.14->trio-websocket~=0.9->selenium) (0.14.0)\n"
     ]
    }
   ],
   "source": [
    "! pip install selenium # use web driver to load JavaScript"
   ]
  },
  {
   "cell_type": "code",
   "execution_count": 2,
   "metadata": {},
   "outputs": [],
   "source": [
    "## Import what you'll need here\n",
    "import requests\n",
    "from bs4 import BeautifulSoup\n",
    "from selenium import webdriver"
   ]
  },
  {
   "cell_type": "code",
   "execution_count": 3,
   "metadata": {},
   "outputs": [],
   "source": [
    "import os\n",
    "os.environ['MOZ_HEADLESS'] = '1' # prevents browser from popping up\n",
    "dr = webdriver.Firefox()"
   ]
  },
  {
   "cell_type": "code",
   "execution_count": 4,
   "metadata": {},
   "outputs": [],
   "source": [
    "dr.get(\"https://www.opensecrets.org/federal-lobbying/clients/summary?id=D000000115\")\n",
    "soup = BeautifulSoup(dr.page_source,\n",
    " 'html.parser')"
   ]
  },
  {
   "cell_type": "code",
   "execution_count": 5,
   "metadata": {},
   "outputs": [
    {
     "name": "stdout",
     "output_type": "stream",
     "text": [
      "36\n",
      "50\n",
      "51\n",
      "52\n",
      "53\n",
      "54\n",
      "60\n"
     ]
    }
   ],
   "source": [
    "result = soup.find_all('div')\n",
    "for n in range(0, 100):\n",
    "    if \"\\nAnnual Lobbying by Microsoft Corp\\n\\n\\n\\n\\n\\n\" in result[n].text:\n",
    "        print(n)"
   ]
  },
  {
   "cell_type": "code",
   "execution_count": 6,
   "metadata": {},
   "outputs": [
    {
     "data": {
      "text/plain": [
       "'{\"chart\":{\"xaxisname\":\"Year\",\"yaxisname\":\"Total Lobbying Spending\",\"syaxisname\":\"Number of Lobbyists\",\"numberprefix\":\"$\",\"setadaptivesymin\":\"1\",\"bgColor\":\"#ffffff\",\"showBorder\":\"0\",\"showCanvasBorder\":\"0\",\"showAlternateHgridColor\":\"0\",\"usePlotGradientcolor\":\"0\",\"showvalues\":0,\"formatnumberscale\":1,\"divlinedashed\":1,\"showplotborder\":0,\"legendBorderColor\":\"ffffff\",\"legendShadow\":0,\"numberScaleValue\":\"1000,1000,1000\",\"numberScaleUnit\":\"K,M,B\",\"basefont\":\"Arial\",\"labelDisplay\":\"rotate\",\"exportEnabled\":\"1\"},\"categories\":[{\"category\":[{\"label\":\"1998\"},{\"label\":\"1999\"},{\"label\":\"2000\"},{\"label\":\"2001\"},{\"label\":\"2002\"},{\"label\":\"2003\"},{\"label\":\"2004\"},{\"label\":\"2005\"},{\"label\":\"2006\"},{\"label\":\"2007\"},{\"label\":\"2008\"},{\"label\":\"2009\"},{\"label\":\"2010\"},{\"label\":\"2011\"},{\"label\":\"2012\"},{\"label\":\"2013\"},{\"label\":\"2014\"},{\"label\":\"2015\"},{\"label\":\"2016\"},{\"label\":\"2017\"},{\"label\":\"2018\"},{\"label\":\"2019\"},{\"label\":\"2020\"},{\"label\":\"2021\"},{\"label\":\"2022\"},{\"label\":\"2023\"}]}],\"dataset\":[{\"dataset\":[{\"seriesname\":\"Mid-Year Report\",\"data\":[{\"value\":1920000,\"tooltext\":\"1st Half: $1,920,000\"},{\"value\":2140000,\"tooltext\":\"1st Half: $2,140,000\"},{\"value\":3440000,\"tooltext\":\"1st Half: $3,440,000\"},{\"value\":3535000,\"tooltext\":\"1st Half: $3,535,000\"},{\"value\":3200000,\"tooltext\":\"1st Half: $3,200,000\"},{\"value\":4120000,\"tooltext\":\"1st Half: $4,120,000\"},{\"value\":5400000,\"tooltext\":\"1st Half: $5,400,000\"},{\"value\":4540000,\"tooltext\":\"1st Half: $4,540,000\"},{\"value\":4840000,\"tooltext\":\"1st Half: $4,840,000\"},{\"value\":4780000,\"tooltext\":\"1st Half: $4,780,000\"},{\"value\":\"\",\"tooltext\":\"1st Half: $\"},{\"value\":\"\",\"tooltext\":\"1st Half: $\"},{\"value\":\"\",\"tooltext\":\"1st Half: $\"},{\"value\":\"\",\"tooltext\":\"1st Half: $\"},{\"value\":\"\",\"tooltext\":\"1st Half: $\"},{\"value\":\"\",\"tooltext\":\"1st Half: $\"},{\"value\":\"\",\"tooltext\":\"1st Half: $\"},{\"value\":\"\",\"tooltext\":\"1st Half: $\"},{\"value\":\"\",\"tooltext\":\"1st Half: $\"},{\"value\":\"\",\"tooltext\":\"1st Half: $\"},{\"value\":\"\",\"tooltext\":\"1st Half: $\"},{\"value\":\"\",\"tooltext\":\"1st Half: $\"},{\"value\":\"\",\"tooltext\":\"1st Half: $\"},{\"value\":\"\",\"tooltext\":\"1st Half: $\"},{\"value\":\"\",\"tooltext\":\"1st Half: $\"},{\"value\":\"\",\"tooltext\":\"1st Half: $\"}],\"color\":\"264d92\"},{\"seriesname\":\"Year-End Report\",\"data\":[{\"value\":2000000,\"tooltext\":\"2nd Half: $2,000,000\"},{\"value\":2720000,\"tooltext\":\"2nd Half: $2,720,000\"},{\"value\":3080000,\"tooltext\":\"2nd Half: $3,080,000\"},{\"value\":3100000,\"tooltext\":\"2nd Half: $3,100,000\"},{\"value\":3300000,\"tooltext\":\"2nd Half: $3,300,000\"},{\"value\":4620000,\"tooltext\":\"2nd Half: $4,620,000\"},{\"value\":4060000,\"tooltext\":\"2nd Half: $4,060,000\"},{\"value\":4160000,\"tooltext\":\"2nd Half: $4,160,000\"},{\"value\":4040000,\"tooltext\":\"2nd Half: $4,040,000\"},{\"value\":4220000,\"tooltext\":\"2nd Half: $4,220,000\"},{\"value\":\"\",\"tooltext\":\"2nd Half: $\"},{\"value\":\"\",\"tooltext\":\"2nd Half: $\"},{\"value\":\"\",\"tooltext\":\"2nd Half: $\"},{\"value\":\"\",\"tooltext\":\"2nd Half: $\"},{\"value\":\"\",\"tooltext\":\"2nd Half: $\"},{\"value\":\"\",\"tooltext\":\"2nd Half: $\"},{\"value\":\"\",\"tooltext\":\"2nd Half: $\"},{\"value\":\"\",\"tooltext\":\"2nd Half: $\"},{\"value\":\"\",\"tooltext\":\"2nd Half: $\"},{\"value\":\"\",\"tooltext\":\"2nd Half: $\"},{\"value\":\"\",\"tooltext\":\"2nd Half: $\"},{\"value\":\"\",\"tooltext\":\"2nd Half: $\"},{\"value\":\"\",\"tooltext\":\"2nd Half: $\"},{\"value\":\"\",\"tooltext\":\"2nd Half: $\"},{\"value\":\"\",\"tooltext\":\"2nd Half: $\"},{\"value\":\"\",\"tooltext\":\"2nd Half: $\"}],\"color\":\"051838\"},{\"seriesname\":\"Q1 Report\",\"data\":[{\"value\":\"\",\"tooltext\":\"1st Quarter: $\"},{\"value\":\"\",\"tooltext\":\"1st Quarter: $\"},{\"value\":\"\",\"tooltext\":\"1st Quarter: $\"},{\"value\":\"\",\"tooltext\":\"1st Quarter: $\"},{\"value\":\"\",\"tooltext\":\"1st Quarter: $\"},{\"value\":\"\",\"tooltext\":\"1st Quarter: $\"},{\"value\":\"\",\"tooltext\":\"1st Quarter: $\"},{\"value\":\"\",\"tooltext\":\"1st Quarter: $\"},{\"value\":\"\",\"tooltext\":\"1st Quarter: $\"},{\"value\":\"\",\"tooltext\":\"1st Quarter: $\"},{\"value\":2560000,\"tooltext\":\"1st Quarter: $2,560,000\"},{\"value\":1650000,\"tooltext\":\"1st Quarter: $1,650,000\"},{\"value\":1720000,\"tooltext\":\"1st Quarter: $1,720,000\"},{\"value\":1720000,\"tooltext\":\"1st Quarter: $1,720,000\"},{\"value\":1790000,\"tooltext\":\"1st Quarter: $1,790,000\"},{\"value\":2530000,\"tooltext\":\"1st Quarter: $2,530,000\"},{\"value\":2080000,\"tooltext\":\"1st Quarter: $2,080,000\"},{\"value\":1890000,\"tooltext\":\"1st Quarter: $1,890,000\"},{\"value\":2020000,\"tooltext\":\"1st Quarter: $2,020,000\"},{\"value\":2350000,\"tooltext\":\"1st Quarter: $2,350,000\"},{\"value\":2330000,\"tooltext\":\"1st Quarter: $2,330,000\"},{\"value\":2790000,\"tooltext\":\"1st Quarter: $2,790,000\"},{\"value\":2424000,\"tooltext\":\"1st Quarter: $2,424,000\"},{\"value\":2620000,\"tooltext\":\"1st Quarter: $2,620,000\"},{\"value\":2590000,\"tooltext\":\"1st Quarter: $2,590,000\"},{\"value\":2641847,\"tooltext\":\"1st Quarter: $2,641,847\"}],\"color\":\"dddddd\"},{\"seriesname\":\"Q2 Report\",\"data\":[{\"value\":\"\",\"tooltext\":\"2nd Quarter: $\"},{\"value\":\"\",\"tooltext\":\"2nd Quarter: $\"},{\"value\":\"\",\"tooltext\":\"2nd Quarter: $\"},{\"value\":\"\",\"tooltext\":\"2nd Quarter: $\"},{\"value\":\"\",\"tooltext\":\"2nd Quarter: $\"},{\"value\":\"\",\"tooltext\":\"2nd Quarter: $\"},{\"value\":\"\",\"tooltext\":\"2nd Quarter: $\"},{\"value\":\"\",\"tooltext\":\"2nd Quarter: $\"},{\"value\":\"\",\"tooltext\":\"2nd Quarter: $\"},{\"value\":\"\",\"tooltext\":\"2nd Quarter: $\"},{\"value\":2340000,\"tooltext\":\"2nd Quarter: $2,340,000\"},{\"value\":1890000,\"tooltext\":\"2nd Quarter: $1,890,000\"},{\"value\":1850000,\"tooltext\":\"2nd Quarter: $1,850,000\"},{\"value\":1852000,\"tooltext\":\"2nd Quarter: $1,852,000\"},{\"value\":2006000,\"tooltext\":\"2nd Quarter: $2,006,000\"},{\"value\":2960000,\"tooltext\":\"2nd Quarter: $2,960,000\"},{\"value\":2340000,\"tooltext\":\"2nd Quarter: $2,340,000\"},{\"value\":2240000,\"tooltext\":\"2nd Quarter: $2,240,000\"},{\"value\":2070000,\"tooltext\":\"2nd Quarter: $2,070,000\"},{\"value\":2120000,\"tooltext\":\"2nd Quarter: $2,120,000\"},{\"value\":2670000,\"tooltext\":\"2nd Quarter: $2,670,000\"},{\"value\":2770000,\"tooltext\":\"2nd Quarter: $2,770,000\"},{\"value\":2910000,\"tooltext\":\"2nd Quarter: $2,910,000\"},{\"value\":2500000,\"tooltext\":\"2nd Quarter: $2,500,000\"},{\"value\":2715263,\"tooltext\":\"2nd Quarter: $2,715,263\"},{\"value\":2696255,\"tooltext\":\"2nd Quarter: $2,696,255\"}],\"color\":\"a2aeb9\"},{\"seriesname\":\"Q3 Report\",\"data\":[{\"value\":\"\",\"tooltext\":\"3rd Quarter: $\"},{\"value\":\"\",\"tooltext\":\"3rd Quarter: $\"},{\"value\":\"\",\"tooltext\":\"3rd Quarter: $\"},{\"value\":\"\",\"tooltext\":\"3rd Quarter: $\"},{\"value\":\"\",\"tooltext\":\"3rd Quarter: $\"},{\"value\":\"\",\"tooltext\":\"3rd Quarter: $\"},{\"value\":\"\",\"tooltext\":\"3rd Quarter: $\"},{\"value\":\"\",\"tooltext\":\"3rd Quarter: $\"},{\"value\":\"\",\"tooltext\":\"3rd Quarter: $\"},{\"value\":\"\",\"tooltext\":\"3rd Quarter: $\"},{\"value\":1980000,\"tooltext\":\"3rd Quarter: $1,980,000\"},{\"value\":1490000,\"tooltext\":\"3rd Quarter: $1,490,000\"},{\"value\":1630000,\"tooltext\":\"3rd Quarter: $1,630,000\"},{\"value\":1883000,\"tooltext\":\"3rd Quarter: $1,883,000\"},{\"value\":1860000,\"tooltext\":\"3rd Quarter: $1,860,000\"},{\"value\":2230000,\"tooltext\":\"3rd Quarter: $2,230,000\"},{\"value\":1660000,\"tooltext\":\"3rd Quarter: $1,660,000\"},{\"value\":1890000,\"tooltext\":\"3rd Quarter: $1,890,000\"},{\"value\":2220000,\"tooltext\":\"3rd Quarter: $2,220,000\"},{\"value\":1980000,\"tooltext\":\"3rd Quarter: $1,980,000\"},{\"value\":2250000,\"tooltext\":\"3rd Quarter: $2,250,000\"},{\"value\":2280000,\"tooltext\":\"3rd Quarter: $2,280,000\"},{\"value\":1910000,\"tooltext\":\"3rd Quarter: $1,910,000\"},{\"value\":2660000,\"tooltext\":\"3rd Quarter: $2,660,000\"},{\"value\":2493687,\"tooltext\":\"3rd Quarter: $2,493,687\"},{\"value\":2729514,\"tooltext\":\"3rd Quarter: $2,729,514\"}],\"color\":\"8595b2\"},{\"seriesname\":\"Q4 Report\",\"data\":[{\"value\":\"\",\"tooltext\":\"4th Quarter: $\"},{\"value\":\"\",\"tooltext\":\"4th Quarter: $\"},{\"value\":\"\",\"tooltext\":\"4th Quarter: $\"},{\"value\":\"\",\"tooltext\":\"4th Quarter: $\"},{\"value\":\"\",\"tooltext\":\"4th Quarter: $\"},{\"value\":\"\",\"tooltext\":\"4th Quarter: $\"},{\"value\":\"\",\"tooltext\":\"4th Quarter: $\"},{\"value\":\"\",\"tooltext\":\"4th Quarter: $\"},{\"value\":\"\",\"tooltext\":\"4th Quarter: $\"},{\"value\":\"\",\"tooltext\":\"4th Quarter: $\"},{\"value\":2020000,\"tooltext\":\"4th Quarter: $2,020,000\"},{\"value\":1690000,\"tooltext\":\"4th Quarter: $1,690,000\"},{\"value\":1710000,\"tooltext\":\"4th Quarter: $1,710,000\"},{\"value\":1880000,\"tooltext\":\"4th Quarter: $1,880,000\"},{\"value\":2430000,\"tooltext\":\"4th Quarter: $2,430,000\"},{\"value\":2770000,\"tooltext\":\"4th Quarter: $2,770,000\"},{\"value\":2250000,\"tooltext\":\"4th Quarter: $2,250,000\"},{\"value\":2470000,\"tooltext\":\"4th Quarter: $2,470,000\"},{\"value\":2400000,\"tooltext\":\"4th Quarter: $2,400,000\"},{\"value\":2210000,\"tooltext\":\"4th Quarter: $2,210,000\"},{\"value\":2340000,\"tooltext\":\"4th Quarter: $2,340,000\"},{\"value\":2420000,\"tooltext\":\"4th Quarter: $2,420,000\"},{\"value\":2220000,\"tooltext\":\"4th Quarter: $2,220,000\"},{\"value\":2520000,\"tooltext\":\"4th Quarter: $2,520,000\"},{\"value\":2730976,\"tooltext\":\"4th Quarter: $2,730,976\"},{\"value\":2476817,\"tooltext\":\"4th Quarter: $2,476,817\"}],\"color\":\"57719e\"}]}],\"lineset\":[{\"seriesname\":\"Number of Lobbyists\",\"showvalues\":\"0\",\"linethickness\":\"1\",\"data\":[{\"value\":61},{\"value\":99},{\"value\":168},{\"value\":74},{\"value\":107},{\"value\":104},{\"value\":97},{\"value\":122},{\"value\":129},{\"value\":126},{\"value\":126},{\"value\":93},{\"value\":103},{\"value\":77},{\"value\":86},{\"value\":106},{\"value\":101},{\"value\":112},{\"value\":104},{\"value\":107},{\"value\":99},{\"value\":111},{\"value\":106},{\"value\":107},{\"value\":98},{\"value\":110}]}]}'"
      ]
     },
     "execution_count": 6,
     "metadata": {},
     "output_type": "execute_result"
    }
   ],
   "source": [
    "result[36].find_all('div', attrs = {'class' : \"FusionChart\"})[0]['data-source']"
   ]
  },
  {
   "cell_type": "code",
   "execution_count": 7,
   "metadata": {},
   "outputs": [],
   "source": [
    "data = result[36].find_all('div', attrs = {'class' : \"FusionChart\"})[0]['data-source']"
   ]
  },
  {
   "cell_type": "code",
   "execution_count": 8,
   "metadata": {},
   "outputs": [],
   "source": [
    "import ast\n",
    "data = ast.literal_eval(data)"
   ]
  },
  {
   "cell_type": "code",
   "execution_count": 9,
   "metadata": {},
   "outputs": [
    {
     "data": {
      "text/plain": [
       "[{'category': [{'label': '1998'},\n",
       "   {'label': '1999'},\n",
       "   {'label': '2000'},\n",
       "   {'label': '2001'},\n",
       "   {'label': '2002'},\n",
       "   {'label': '2003'},\n",
       "   {'label': '2004'},\n",
       "   {'label': '2005'},\n",
       "   {'label': '2006'},\n",
       "   {'label': '2007'},\n",
       "   {'label': '2008'},\n",
       "   {'label': '2009'},\n",
       "   {'label': '2010'},\n",
       "   {'label': '2011'},\n",
       "   {'label': '2012'},\n",
       "   {'label': '2013'},\n",
       "   {'label': '2014'},\n",
       "   {'label': '2015'},\n",
       "   {'label': '2016'},\n",
       "   {'label': '2017'},\n",
       "   {'label': '2018'},\n",
       "   {'label': '2019'},\n",
       "   {'label': '2020'},\n",
       "   {'label': '2021'},\n",
       "   {'label': '2022'},\n",
       "   {'label': '2023'}]}]"
      ]
     },
     "execution_count": 9,
     "metadata": {},
     "output_type": "execute_result"
    }
   ],
   "source": [
    "data['categories']"
   ]
  },
  {
   "cell_type": "code",
   "execution_count": 10,
   "metadata": {},
   "outputs": [
    {
     "name": "stdout",
     "output_type": "stream",
     "text": [
      "Number of Categories:  26\n",
      "Number of Datapoints:  26\n"
     ]
    }
   ],
   "source": [
    "data['dataset'][0]['dataset'][2:]\n",
    "print('Number of Categories: ', len(data['categories'][0]['category']))\n",
    "print('Number of Datapoints: ', len(data['dataset'][0]['dataset'][3]['data']))"
   ]
  },
  {
   "cell_type": "code",
   "execution_count": 13,
   "metadata": {},
   "outputs": [
    {
     "name": "stdout",
     "output_type": "stream",
     "text": [
      "{'seriesname': 'Q1 Report', 'data': [{'value': '', 'tooltext': '1st Quarter: $'}, {'value': '', 'tooltext': '1st Quarter: $'}, {'value': '', 'tooltext': '1st Quarter: $'}, {'value': '', 'tooltext': '1st Quarter: $'}, {'value': '', 'tooltext': '1st Quarter: $'}, {'value': '', 'tooltext': '1st Quarter: $'}, {'value': '', 'tooltext': '1st Quarter: $'}, {'value': '', 'tooltext': '1st Quarter: $'}, {'value': '', 'tooltext': '1st Quarter: $'}, {'value': '', 'tooltext': '1st Quarter: $'}, {'value': 2560000, 'tooltext': '1st Quarter: $2,560,000'}, {'value': 1650000, 'tooltext': '1st Quarter: $1,650,000'}, {'value': 1720000, 'tooltext': '1st Quarter: $1,720,000'}, {'value': 1720000, 'tooltext': '1st Quarter: $1,720,000'}, {'value': 1790000, 'tooltext': '1st Quarter: $1,790,000'}, {'value': 2530000, 'tooltext': '1st Quarter: $2,530,000'}, {'value': 2080000, 'tooltext': '1st Quarter: $2,080,000'}, {'value': 1890000, 'tooltext': '1st Quarter: $1,890,000'}, {'value': 2020000, 'tooltext': '1st Quarter: $2,020,000'}, {'value': 2350000, 'tooltext': '1st Quarter: $2,350,000'}, {'value': 2330000, 'tooltext': '1st Quarter: $2,330,000'}, {'value': 2790000, 'tooltext': '1st Quarter: $2,790,000'}, {'value': 2424000, 'tooltext': '1st Quarter: $2,424,000'}, {'value': 2620000, 'tooltext': '1st Quarter: $2,620,000'}, {'value': 2590000, 'tooltext': '1st Quarter: $2,590,000'}, {'value': 2641847, 'tooltext': '1st Quarter: $2,641,847'}], 'color': 'dddddd'}\n"
     ]
    }
   ],
   "source": [
    "print(data['dataset'][0]['dataset'][1])"
   ]
  },
  {
   "cell_type": "code",
   "execution_count": 50,
   "metadata": {},
   "outputs": [],
   "source": [
    "# goal: reproduce plots from the website\n",
    "import matplotlib.pyplot as plt\n",
    "import numpy as np\n",
    "\n",
    "years = data['categories'][0]['category']\n",
    "q_dict = {}\n",
    "q_dict['q1'] = data['dataset'][0]['dataset'][2]['data']\n",
    "q_dict['q2'] = data['dataset'][0]['dataset'][3]['data']\n",
    "q_dict['q3'] = data['dataset'][0]['dataset'][4]['data']\n",
    "q_dict['q4'] = data['dataset'][0]['dataset'][5]['data']\n",
    "num_lobbyists = data['lineset'][0]['data']"
   ]
  },
  {
   "cell_type": "code",
   "execution_count": 51,
   "metadata": {},
   "outputs": [
    {
     "data": {
      "text/plain": [
       "[{'value': '', 'tooltext': '1st Quarter: $'},\n",
       " {'value': '', 'tooltext': '1st Quarter: $'},\n",
       " {'value': '', 'tooltext': '1st Quarter: $'},\n",
       " {'value': '', 'tooltext': '1st Quarter: $'},\n",
       " {'value': '', 'tooltext': '1st Quarter: $'},\n",
       " {'value': '', 'tooltext': '1st Quarter: $'},\n",
       " {'value': '', 'tooltext': '1st Quarter: $'},\n",
       " {'value': '', 'tooltext': '1st Quarter: $'},\n",
       " {'value': '', 'tooltext': '1st Quarter: $'},\n",
       " {'value': '', 'tooltext': '1st Quarter: $'},\n",
       " {'value': 2560000, 'tooltext': '1st Quarter: $2,560,000'},\n",
       " {'value': 1650000, 'tooltext': '1st Quarter: $1,650,000'},\n",
       " {'value': 1720000, 'tooltext': '1st Quarter: $1,720,000'},\n",
       " {'value': 1720000, 'tooltext': '1st Quarter: $1,720,000'},\n",
       " {'value': 1790000, 'tooltext': '1st Quarter: $1,790,000'},\n",
       " {'value': 2530000, 'tooltext': '1st Quarter: $2,530,000'},\n",
       " {'value': 2080000, 'tooltext': '1st Quarter: $2,080,000'},\n",
       " {'value': 1890000, 'tooltext': '1st Quarter: $1,890,000'},\n",
       " {'value': 2020000, 'tooltext': '1st Quarter: $2,020,000'},\n",
       " {'value': 2350000, 'tooltext': '1st Quarter: $2,350,000'},\n",
       " {'value': 2330000, 'tooltext': '1st Quarter: $2,330,000'},\n",
       " {'value': 2790000, 'tooltext': '1st Quarter: $2,790,000'},\n",
       " {'value': 2424000, 'tooltext': '1st Quarter: $2,424,000'},\n",
       " {'value': 2620000, 'tooltext': '1st Quarter: $2,620,000'},\n",
       " {'value': 2590000, 'tooltext': '1st Quarter: $2,590,000'},\n",
       " {'value': 2641847, 'tooltext': '1st Quarter: $2,641,847'}]"
      ]
     },
     "execution_count": 51,
     "metadata": {},
     "output_type": "execute_result"
    }
   ],
   "source": [
    "q_dict['q1']"
   ]
  },
  {
   "cell_type": "code",
   "execution_count": 56,
   "metadata": {},
   "outputs": [
    {
     "name": "stdout",
     "output_type": "stream",
     "text": [
      "26\n",
      "26\n",
      "26\n",
      "26\n",
      "26\n",
      "26\n",
      "26\n",
      "26\n"
     ]
    },
    {
     "data": {
      "image/png": "[encoded data removed]",
      "text/plain": [
       "<Figure size 432x288 with 2 Axes>"
      ]
     },
     "metadata": {
      "needs_background": "light"
     },
     "output_type": "display_data"
    }
   ],
   "source": [
    "years_proc = [int(year['label']) for year in years]\n",
    "quarterly_counts = {}\n",
    "for key in [\"q1\", \"q2\", \"q3\", \"q4\"]:\n",
    "    quarterly_counts[key] = []\n",
    "    quarterly_counts[key] = [q_dict[key][idx]['value'] for idx in range(len(years_proc))]\n",
    "    for idx in range(len(years_proc)):\n",
    "        if quarterly_counts[key][idx] == '':\n",
    "            quarterly_counts[key][idx] = 0\n",
    "        else:\n",
    "            continue\n",
    "num_lobbyists_proc = [int(lobbyist['value']) for lobbyist in num_lobbyists]\n",
    "\n",
    "# weight_counts = {\n",
    "#     \"q1\": [q1_values['value'] for q1_values in q1_values],\n",
    "#     \"q2\": [q2_values['value'] for q2_values in q2_values],\n",
    "#     \"q3\": [q3_values['value'] for q3_values in q3_values],\n",
    "#     \"q4\": [q4_values['value'] for q4_values in q4_values],\n",
    "# }\n",
    "width = 0.5\n",
    "\n",
    "# two subplots\n",
    "fig, ax = plt.subplots()\n",
    "bottom = np.zeros(26)\n",
    "\n",
    "for boolean, quarterly_count in quarterly_counts.items():\n",
    "    print(len(quarterly_count))\n",
    "    print(len(years_proc))\n",
    "    p = ax.bar(years_proc, quarterly_count, width, label=boolean, bottom=bottom)\n",
    "    bottom += quarterly_count\n",
    "\n",
    "ax.set_title(\"Lobbying by Microsoft Corp\")\n",
    "ax.legend(loc=\"upper right\")\n",
    "ax.set_ylabel(\"Amount Spent\")\n",
    "ax.set_xlabel(\"Year\")\n",
    "\n",
    "ax2 = ax.twinx()\n",
    "ax2.plot(years_proc, num_lobbyists_proc, color='purple')\n",
    "ax2.set_ylabel(\"Number of Lobbyists\")\n",
    "\n",
    "plt.show()\n"
   ]
  },
  {
   "cell_type": "code",
   "execution_count": 77,
   "metadata": {},
   "outputs": [
    {
     "name": "stdout",
     "output_type": "stream",
     "text": [
      "0 [<h2 class=\"Donate-title f-strata-title c-navy\" data-orphans='{\"words\":\"2\",\"wrap\":\"true\"}'>\n",
      "            We follow the money. <span class=\"f-short-underline\">You</span> make it possible.\n",
      "        </h2>]\n",
      "1 [<h2 class=\"Donate-title f-strata-title c-navy\" data-orphans='{\"words\":\"2\",\"wrap\":\"true\"}'>\n",
      "            We follow the money. <span class=\"f-short-underline\">You</span> make it possible.\n",
      "        </h2>]\n",
      "2 [<h2 class=\"Donate-title f-strata-title c-navy\" data-orphans='{\"words\":\"2\",\"wrap\":\"true\"}'>\n",
      "            We follow the money. <span class=\"f-short-underline\">You</span> make it possible.\n",
      "        </h2>]\n",
      "3 []\n",
      "4 []\n",
      "5 []\n",
      "6 [<h2 class=\"f-strata-title f-uppercase\" style=\"color: white; fill: white; text-align: center; font-size: 260%;\"> Can you give just $1?</h2>]\n",
      "7 []\n",
      "8 []\n",
      "9 []\n",
      "10 [<h2 class=\"f-strata-title f-uppercase\" style=\"color: white; fill: white; text-align: center; font-size: 260%;\"> Can you give just $1?</h2>]\n",
      "11 [<h2 class=\"f-strata-title f-uppercase\" style=\"color: white; fill: white; text-align: center; font-size: 260%;\"> Can you give just $1?</h2>]\n",
      "12 []\n",
      "13 []\n",
      "14 []\n",
      "15 []\n",
      "16 []\n",
      "17 []\n",
      "18 []\n",
      "19 []\n",
      "20 []\n",
      "21 []\n",
      "22 []\n",
      "23 []\n",
      "24 []\n",
      "25 []\n",
      "26 []\n",
      "27 []\n",
      "28 []\n",
      "29 []\n",
      "30 []\n",
      "31 []\n",
      "32 []\n",
      "33 []\n",
      "34 []\n",
      "35 []\n",
      "36 [<h2>Subtotal for Microsoft Corp</h2>, <h2>Subtotal for all <a href=\"#subs\">subsidiaries</a></h2>, <h2 class=\"u-mb4\">Annual Lobbying by Microsoft Corp</h2>, <h2>Lobbying by related organizations:</h2>, <h2 class=\"Donate-title f-strata-title c-navy\" data-orphans='{\"words\":\"2\",\"wrap\":\"true\"}'>\n",
      "            We follow the money. <span class=\"f-short-underline\">You</span> make it possible.\n",
      "        </h2>, <h2 class=\"StayConnected-title c-white\" data-orphans=\"\">Count Cash &amp; Make Change</h2>]\n",
      "37 []\n",
      "38 []\n",
      "39 []\n",
      "40 []\n",
      "41 []\n",
      "42 []\n",
      "43 []\n",
      "44 []\n",
      "45 []\n",
      "46 []\n",
      "47 []\n",
      "48 []\n",
      "49 []\n",
      "50 [<h2>Subtotal for Microsoft Corp</h2>, <h2>Subtotal for all <a href=\"#subs\">subsidiaries</a></h2>, <h2 class=\"u-mb4\">Annual Lobbying by Microsoft Corp</h2>, <h2>Lobbying by related organizations:</h2>]\n",
      "51 [<h2>Subtotal for Microsoft Corp</h2>, <h2>Subtotal for all <a href=\"#subs\">subsidiaries</a></h2>, <h2 class=\"u-mb4\">Annual Lobbying by Microsoft Corp</h2>, <h2>Lobbying by related organizations:</h2>]\n",
      "52 [<h2>Subtotal for Microsoft Corp</h2>, <h2>Subtotal for all <a href=\"#subs\">subsidiaries</a></h2>, <h2 class=\"u-mb4\">Annual Lobbying by Microsoft Corp</h2>, <h2>Lobbying by related organizations:</h2>]\n",
      "53 [<h2>Subtotal for Microsoft Corp</h2>, <h2>Subtotal for all <a href=\"#subs\">subsidiaries</a></h2>, <h2 class=\"u-mb4\">Annual Lobbying by Microsoft Corp</h2>, <h2>Lobbying by related organizations:</h2>]\n",
      "54 [<h2>Subtotal for Microsoft Corp</h2>, <h2>Subtotal for all <a href=\"#subs\">subsidiaries</a></h2>, <h2 class=\"u-mb4\">Annual Lobbying by Microsoft Corp</h2>, <h2>Lobbying by related organizations:</h2>]\n",
      "55 [<h2>Subtotal for Microsoft Corp</h2>, <h2>Subtotal for all <a href=\"#subs\">subsidiaries</a></h2>]\n",
      "56 [<h2>Subtotal for Microsoft Corp</h2>, <h2>Subtotal for all <a href=\"#subs\">subsidiaries</a></h2>]\n",
      "57 []\n",
      "58 [<h2>Subtotal for Microsoft Corp</h2>]\n",
      "59 [<h2>Subtotal for all <a href=\"#subs\">subsidiaries</a></h2>]\n",
      "60 [<h2 class=\"u-mb4\">Annual Lobbying by Microsoft Corp</h2>]\n",
      "61 []\n",
      "62 []\n",
      "63 []\n",
      "64 [<h2>Lobbying by related organizations:</h2>]\n",
      "65 []\n",
      "66 []\n",
      "67 []\n",
      "68 []\n",
      "69 []\n",
      "70 []\n",
      "71 []\n",
      "72 []\n",
      "73 []\n",
      "74 []\n",
      "75 []\n",
      "76 []\n",
      "77 []\n",
      "78 []\n",
      "79 []\n",
      "80 []\n",
      "81 []\n",
      "82 []\n",
      "83 []\n",
      "84 []\n",
      "85 []\n",
      "86 []\n",
      "87 []\n",
      "88 []\n",
      "89 []\n",
      "90 []\n",
      "91 []\n",
      "92 []\n",
      "93 []\n",
      "94 [<h2 class=\"Donate-title f-strata-title c-navy\" data-orphans='{\"words\":\"2\",\"wrap\":\"true\"}'>\n",
      "            We follow the money. <span class=\"f-short-underline\">You</span> make it possible.\n",
      "        </h2>, <h2 class=\"StayConnected-title c-white\" data-orphans=\"\">Count Cash &amp; Make Change</h2>]\n",
      "95 [<h2 class=\"Donate-title f-strata-title c-navy\" data-orphans='{\"words\":\"2\",\"wrap\":\"true\"}'>\n",
      "            We follow the money. <span class=\"f-short-underline\">You</span> make it possible.\n",
      "        </h2>, <h2 class=\"StayConnected-title c-white\" data-orphans=\"\">Count Cash &amp; Make Change</h2>]\n",
      "96 [<h2 class=\"Donate-title f-strata-title c-navy\" data-orphans='{\"words\":\"2\",\"wrap\":\"true\"}'>\n",
      "            We follow the money. <span class=\"f-short-underline\">You</span> make it possible.\n",
      "        </h2>, <h2 class=\"StayConnected-title c-white\" data-orphans=\"\">Count Cash &amp; Make Change</h2>]\n",
      "97 [<h2 class=\"Donate-title f-strata-title c-navy\" data-orphans='{\"words\":\"2\",\"wrap\":\"true\"}'>\n",
      "            We follow the money. <span class=\"f-short-underline\">You</span> make it possible.\n",
      "        </h2>, <h2 class=\"StayConnected-title c-white\" data-orphans=\"\">Count Cash &amp; Make Change</h2>]\n",
      "98 [<h2 class=\"Donate-title f-strata-title c-navy\" data-orphans='{\"words\":\"2\",\"wrap\":\"true\"}'>\n",
      "            We follow the money. <span class=\"f-short-underline\">You</span> make it possible.\n",
      "        </h2>]\n",
      "99 [<h2 class=\"Donate-title f-strata-title c-navy\" data-orphans='{\"words\":\"2\",\"wrap\":\"true\"}'>\n",
      "            We follow the money. <span class=\"f-short-underline\">You</span> make it possible.\n",
      "        </h2>]\n",
      "100 [<h2 class=\"Donate-title f-strata-title c-navy\" data-orphans='{\"words\":\"2\",\"wrap\":\"true\"}'>\n",
      "            We follow the money. <span class=\"f-short-underline\">You</span> make it possible.\n",
      "        </h2>]\n",
      "101 [<h2 class=\"StayConnected-title c-white\" data-orphans=\"\">Count Cash &amp; Make Change</h2>]\n",
      "102 [<h2 class=\"StayConnected-title c-white\" data-orphans=\"\">Count Cash &amp; Make Change</h2>]\n",
      "103 [<h2 class=\"StayConnected-title c-white\" data-orphans=\"\">Count Cash &amp; Make Change</h2>]\n",
      "104 []\n",
      "105 []\n",
      "106 []\n",
      "107 []\n",
      "108 []\n",
      "109 []\n",
      "110 []\n",
      "111 []\n",
      "112 []\n",
      "113 []\n",
      "114 []\n",
      "115 []\n",
      "116 []\n",
      "117 []\n",
      "118 []\n",
      "119 []\n",
      "120 []\n",
      "121 []\n",
      "122 []\n",
      "123 []\n",
      "124 []\n",
      "125 []\n",
      "126 []\n",
      "127 []\n",
      "128 []\n",
      "129 []\n",
      "130 []\n",
      "131 []\n",
      "132 []\n",
      "133 []\n",
      "134 []\n"
     ]
    }
   ],
   "source": [
    "## Code here\n",
    "for n in range(len(result)):\n",
    "    print(n, result[n].find_all('h2'))"
   ]
  },
  {
   "cell_type": "code",
   "execution_count": 51,
   "metadata": {},
   "outputs": [],
   "source": [
    "sub_result = soup.find_all('div')\n"
   ]
  },
  {
   "cell_type": "code",
   "execution_count": 52,
   "metadata": {},
   "outputs": [
    {
     "data": {
      "text/plain": [
       "<div class=\"Donate-modal\" id=\"donateModal\">\n",
       "<div class=\"Donate\">\n",
       "<div class=\"Donate-content\">\n",
       "<h2 class=\"Donate-title f-strata-title c-navy\" data-orphans='{\"words\":\"2\",\"wrap\":\"true\"}'>\n",
       "            We follow the money. <span class=\"f-short-underline\">You</span> make it possible.\n",
       "        </h2>\n",
       "</div>\n",
       "<form accept-charset=\"UTF-8\" action=\"https://action.opensecrets.org/a/donate\" class=\"Donate-form\" method=\"get\">\n",
       "<input name=\"utm_campaign\" type=\"hidden\" value=\"donate_side_red_button\"/>\n",
       "<input name=\"utm_medium\" type=\"hidden\" value=\"footer\"/>\n",
       "<input name=\"utm_source\" type=\"hidden\" value=\"/federal-lobbying/clients/summary\"/>\n",
       "<ul class=\"Donate-amounts u-clearfix u-mb2\">\n",
       "<li class=\"Donate-item\">\n",
       "<input checked=\"\" class=\"Donate-input\" id=\"footer-amount-35\" name=\"amount-footer\" type=\"radio\" value=\"35\"/>\n",
       "<label class=\"Donate-label\" for=\"footer-amount-35\">$35</label>\n",
       "</li>\n",
       "<li class=\"Donate-item\">\n",
       "<input class=\"Donate-input\" id=\"footer-amount-50\" name=\"amount-footer\" type=\"radio\" value=\"50\"/>\n",
       "<label class=\"Donate-label\" for=\"footer-amount-50\">$50</label>\n",
       "</li>\n",
       "<li class=\"Donate-item\">\n",
       "<input class=\"Donate-input\" id=\"footer-amount-100\" name=\"amount-footer\" type=\"radio\" value=\"100\"/>\n",
       "<label class=\"Donate-label\" for=\"footer-amount-100\">$100</label>\n",
       "</li>\n",
       "<li class=\"Donate-item\">\n",
       "<input class=\"Donate-input\" id=\"footer-amount-other\" name=\"amount-footer\" type=\"radio\" value=\"other\"/>\n",
       "<label class=\"Donate-label\" for=\"footer-amount-other\">Other</label>\n",
       "</li>\n",
       "</ul>\n",
       "<button class=\"Donate-submit Button\">Donate Today</button>\n",
       "</form>\n",
       "</div>\n",
       "<span class=\"Donate-modal-close\">×</span>\n",
       "</div>"
      ]
     },
     "execution_count": 52,
     "metadata": {},
     "output_type": "execute_result"
    }
   ],
   "source": [
    "sub_result[0]"
   ]
  },
  {
   "cell_type": "code",
   "execution_count": null,
   "metadata": {},
   "outputs": [],
   "source": []
  }
 ],
 "metadata": {
  "kernelspec": {
   "display_name": "cbase",
   "language": "python",
   "name": "python3"
  },
  "language_info": {
   "codemirror_mode": {
    "name": "ipython",
    "version": 3
   },
   "file_extension": ".py",
   "mimetype": "text/x-python",
   "name": "python",
   "nbconvert_exporter": "python",
   "pygments_lexer": "ipython3",
   "version": "3.9.18"
  }
 },
 "nbformat": 4,
 "nbformat_minor": 2
}
