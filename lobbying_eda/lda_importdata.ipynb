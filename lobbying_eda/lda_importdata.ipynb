{
 "cells": [
  {
   "cell_type": "code",
   "execution_count": 7,
   "metadata": {},
   "outputs": [],
   "source": [
    "import pandas as pd\n",
    "import numpy as np\n",
    "import os \n",
    "import glob \n",
    "import json\n",
    "os.chdir('..')"
   ]
  },
  {
   "cell_type": "code",
   "execution_count": 8,
   "metadata": {},
   "outputs": [],
   "source": [
    "path_pattern='LDA_data/Filings_'\n",
    "dirdict={str(i):path_pattern + str(i) for i in range(2013,2025)}\n",
    "filepath_lists = {yearkey:[dirdict.get(yearkey)+'/'+filepath for filepath in os.listdir(dirdict.get(yearkey))] for yearkey in dirdict}\n",
    "listcsv = filepath_lists.get('2013')\n",
    "dataframe_list=[pd.read_csv(path) for path in listcsv]"
   ]
  },
  {
   "cell_type": "code",
   "execution_count": null,
   "metadata": {},
   "outputs": [],
   "source": []
  }
 ],
 "metadata": {
  "kernelspec": {
   "display_name": "nicoenv",
   "language": "python",
   "name": "python3"
  },
  "language_info": {
   "codemirror_mode": {
    "name": "ipython",
    "version": 3
   },
   "file_extension": ".py",
   "mimetype": "text/x-python",
   "name": "python",
   "nbconvert_exporter": "python",
   "pygments_lexer": "ipython3",
   "version": "3.12.2"
  }
 },
 "nbformat": 4,
 "nbformat_minor": 2
}
