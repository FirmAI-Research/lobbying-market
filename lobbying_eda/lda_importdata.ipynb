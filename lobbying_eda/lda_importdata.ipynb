{
 "cells": [
  {
   "cell_type": "code",
   "execution_count": 2,
   "metadata": {},
   "outputs": [],
   "source": [
    "import pandas as pd\n",
    "import numpy as np\n",
    "import os \n",
    "import sys\n",
    "import glob \n",
    "import json\n",
    "import importlib\n",
    "import tqdm\n",
    "import warnings\n",
    "import matplotlib.pyplot as plt"
   ]
  },
  {
   "cell_type": "code",
   "execution_count": 3,
   "metadata": {},
   "outputs": [
    {
     "name": "stdout",
     "output_type": "stream",
     "text": [
      "c:\\Users\\nicoj\\Documents\\GitHub\\lobbying-market\n"
     ]
    }
   ],
   "source": [
    "#Make sure to run this only once, to make lobbying-market the working directory\n",
    "parent_dir_name=os.path.basename(os.path.dirname(os.getcwd()))\n",
    "if parent_dir_name=='lobbying-market':\n",
    "    os.chdir(os.path.pardir)\n",
    "    print(os.getcwd())\n",
    "    utils_path= os.path.abspath('utils')\n",
    "    sys.path.append(utils_path)\n",
    "\n",
    "import preprocessing as pp\n",
    "importlib.reload(pp)\n",
    "\n",
    "with open(\"LDA_data/issue_list.json\", 'r') as f:\n",
    "    issue_list = json.load(f)\n",
    "\n",
    "issue_df=pd.read_csv('LDA_data/data_by_issue.csv',index_col=\"issue\")"
   ]
  },
  {
   "cell_type": "code",
   "execution_count": 4,
   "metadata": {},
   "outputs": [],
   "source": [
    "path_pattern='LDA_data/Filings_'\n",
    "dirdict={str(i):path_pattern + str(i) for i in range(2013,2024)}\n",
    "filepath_lists = {\n",
    "    yearkey:\n",
    "        [dirdict.get(yearkey)+'/'+filepath for filepath in os.listdir(dirdict.get(yearkey))] \n",
    "    for yearkey in dirdict\n",
    "}\n",
    "\n",
    "index_dict={\n",
    "    'Q'+str(i+1): [6*i+j for j in range(6)]+[2*i+j for j in range(24,26)] for i in range(4)\n",
    "}\n",
    "\n",
    "\n",
    "file_list_dependency={\n",
    "    yr_key : {\n",
    "       qt_key:\n",
    "           [filepath_lists[yr_key][i] for i in index_dict[qt_key]]\n",
    "    for qt_key in index_dict\n",
    "    }\n",
    "    for yr_key in filepath_lists\n",
    "}\n"
   ]
  },
  {
   "cell_type": "code",
   "execution_count": 6,
   "metadata": {},
   "outputs": [],
   "source": [
    "try: preprocessed_file_dict.keys()\n",
    "except: preprocessed_file_dict={}\n",
    "dir_path='LDA_data/processed'\n",
    "filelist= os.listdir(dir_path)\n",
    "for yr in range(2013,2024):\n",
    "    for j in range(4):\n",
    "        key=str(yr)+str(j+1)\n",
    "        i=(yr-2013)*4+j\n",
    "        preprocessed_file_dict[key]=dir_path+'/'+filelist[i]  "
   ]
  },
  {
   "cell_type": "code",
   "execution_count": null,
   "metadata": {},
   "outputs": [],
   "source": [
    "#df=pp.preprocess_data(pd.read_csv(file_list_dependency['2023']['Q4'][6]))\n",
    "#This saves the preprocessed data into csv files\n",
    "#It also saves the issue list\n",
    "os.makedirs('LDA_data/processed', exist_ok=True) \n",
    "warnings.filterwarnings('ignore')\n",
    "issue_set=set([])\n",
    "Year_Keys=list(file_list_dependency.keys())\n",
    "for yr_key in tqdm.tqdm(Year_Keys, desc = 'YEARS'):\n",
    "    #print(yr_key)\n",
    "    QT_Keys=list(file_list_dependency[yr_key].keys())\n",
    "    for qt_key in tqdm.tqdm(QT_Keys ,desc = 'Quarters'):\n",
    "        #print(qt_key)\n",
    "        df=pp.preprocess_data(pd.read_csv(file_list_dependency[yr_key][qt_key][6]))\n",
    "        filepath= 'LDA_data/processed/filings_'+yr_key+'_'+qt_key+'.csv'\n",
    "        df.to_csv(filepath,index=False)\n",
    "        issue_subset= set([col_name for col_name in df.columns if col_name.find('i_')>-1])\n",
    "        issue_set= issue_set.union(issue_subset)\n",
    "\n",
    "issue_set.remove('i_NUMBER')\n",
    "issue_list=list(issue_set)\n",
    "with open(\"LDA_data/issue_list.json\", 'w') as f:\n",
    "    json.dump(issue_list, f, indent=2)"
   ]
  },
  {
   "cell_type": "code",
   "execution_count": 9,
   "metadata": {},
   "outputs": [
    {
     "ename": "NameError",
     "evalue": "name 'additional_file_list' is not defined",
     "output_type": "error",
     "traceback": [
      "\u001b[1;31m---------------------------------------------------------------------------\u001b[0m",
      "\u001b[1;31mNameError\u001b[0m                                 Traceback (most recent call last)",
      "Cell \u001b[1;32mIn[9], line 8\u001b[0m\n\u001b[0;32m      6\u001b[0m \u001b[38;5;28;01mfor\u001b[39;00m yr_key \u001b[38;5;129;01min\u001b[39;00m filepath_lists:\n\u001b[0;32m      7\u001b[0m     list_to_add\u001b[38;5;241m=\u001b[39m [path \u001b[38;5;28;01mfor\u001b[39;00m path \u001b[38;5;129;01min\u001b[39;00m filepath_lists[yr_key] \u001b[38;5;28;01mif\u001b[39;00m path \u001b[38;5;129;01mnot\u001b[39;00m \u001b[38;5;129;01min\u001b[39;00m files_to_avoid]\n\u001b[1;32m----> 8\u001b[0m     additional_file_list\u001b[38;5;241m=\u001b[39m\u001b[43madditional_file_list\u001b[49m\u001b[38;5;241m+\u001b[39mlist_to_add\n",
      "\u001b[1;31mNameError\u001b[0m: name 'additional_file_list' is not defined"
     ]
    }
   ],
   "source": [
    "#builds the file list to load additional files\n",
    "files_to_avoid=[]\n",
    "for yr_key in file_list_dependency:\n",
    "    for qt_key in file_list_dependency[yr_key]:\n",
    "        files_to_avoid.append(file_list_dependency[yr_key][qt_key][6])\n",
    "for yr_key in filepath_lists:\n",
    "    list_to_add= [path for path in filepath_lists[yr_key] if path not in files_to_avoid]\n",
    "    additional_file_list=additional_file_list+list_to_add"
   ]
  },
  {
   "cell_type": "code",
   "execution_count": null,
   "metadata": {},
   "outputs": [],
   "source": [
    "#This saves the preprocessed additional data into csv files\n",
    "# from additional_file_list\n",
    "dirpath='LDA_data/processed_additional'\n",
    "os.makedirs(dirpath, exist_ok=True) \n",
    "warnings.filterwarnings('ignore')\n",
    "for path in tqdm.tqdm(additional_file_list):\n",
    "        df=pp.preprocess_data(pd.read_csv(path))\n",
    "        filename=os.path.basename(path)\n",
    "        filepath= dirpath+'/'+filename\n",
    "        df.to_csv(filepath,index=False)  \n"
   ]
  },
  {
   "cell_type": "code",
   "execution_count": 38,
   "metadata": {},
   "outputs": [],
   "source": [
    "def add_data_by_issue(df,qt_key):\n",
    "    df_to_load= pd.read_csv(preprocessed_file_dict[qt_key])\n",
    "    #print(df_to_load.shape)\n",
    "    for issue_key in df['issue']:\n",
    "        #print(issue_key)\n",
    "        #filter by issue==1\n",
    "        filtered_df= df_to_load[df_to_load[issue_key] == 1]\n",
    "        \n",
    "                \n",
    "        #count the rows in issue and add to dataframe\n",
    "        issue_count= filtered_df.shape[0]\n",
    "        col_name= 'count_'+qt_key\n",
    "        try: len(column_list_dict[colname])\n",
    "        except: column_list_dict[colname]=[]\n",
    "        df.loc[issue_df['issue']==issue_key,col_name]=issue_count\n",
    "        #print(col_name+':'+str(issue_count))\n",
    "        \n",
    "        \n",
    "        #count the number of na in both income and expenses then add to dataframe\n",
    "        filter_na_income=filtered_df[filtered_df['income'].isna()]\n",
    "        filter_na_expenses=filter_na_income[filter_na_income['expenses'].isna()]\n",
    "        issue_count_na = filter_na_expenses.shape[0]\n",
    "        col_name= 'nan_'+qt_key\n",
    "        df.loc[issue_df['issue']==issue_key,col_name]=issue_count_na\n",
    "        #print(col_name+':'+str(issue_count_na))\n",
    "        \n",
    "        #sum income then add to dataframe\n",
    "        issue_income= sum(filtered_df['income'].dropna())\n",
    "        col_name= 'income_'+qt_key\n",
    "        df.loc[issue_df['issue']==issue_key,col_name]=issue_income\n",
    "        #print(col_name +':'+str(issue_income))\n",
    "        \n",
    "        #sum expenses then add to dataframe\n",
    "        issue_expenses= sum(filtered_df['expenses'].dropna())\n",
    "        col_name= 'expenses_'+qt_key\n",
    "        df.loc[issue_df['issue']==issue_key,col_name]=issue_expenses\n",
    "        #print(col_name+':'+str(issue_expenses))\n",
    "        \n",
    "        #sum total then add to dataframe\n",
    "        issue_total=issue_income+issue_expenses\n",
    "        col_name= 'total_'+qt_key\n",
    "        df.loc[issue_df['issue']==issue_key,col_name]=issue_total\n",
    "        \n",
    "        \n",
    "        \n",
    "    "
   ]
  },
  {
   "cell_type": "code",
   "execution_count": 12,
   "metadata": {},
   "outputs": [
    {
     "name": "stderr",
     "output_type": "stream",
     "text": [
      "100%|██████████| 44/44 [00:42<00:00,  1.04it/s]\n"
     ]
    }
   ],
   "source": [
    "warnings.filterwarnings('ignore')\n",
    "issue_df= pd.DataFrame(issue_list,columns=['issue'])\n",
    "#add data to issue_df\n",
    "for qt_key in tqdm.tqdm(preprocessed_file_dict):\n",
    "    add_data_by_issue(issue_df,qt_key)"
   ]
  },
  {
   "cell_type": "code",
   "execution_count": 14,
   "metadata": {},
   "outputs": [],
   "source": [
    "issue_df.to_csv('LDA_data/data_by_issue.csv',index=False)"
   ]
  },
  {
   "cell_type": "code",
   "execution_count": 49,
   "metadata": {},
   "outputs": [
    {
     "data": {
      "image/png": "[encoded data removed]",
      "text/plain": [
       "<Figure size 640x480 with 1 Axes>"
      ]
     },
     "metadata": {},
     "output_type": "display_data"
    }
   ],
   "source": [
    "test_cols= issue_df.columns\n",
    "prop_to_plot='total_'\n",
    "issue_to_plot='i_BAN'\n",
    "select_cols_list=[col for col in test_cols if col.find(prop_to_plot)>-1]\n",
    "filtered_df=issue_df[select_cols_list].transpose()\n",
    "\n",
    "\n",
    "# bar plot\n",
    "filtered_df[issue_to_plot].plot(kind='bar',\n",
    "        x='qt_key',\n",
    "        y=prop_to_plot,\n",
    "        color='green')\n",
    " \n",
    "# set the title\n",
    "plt.title(prop_to_plot + ' for ' +issue_to_plot)\n",
    " \n",
    "# show the plot\n",
    "plt.show()\n",
    "\n"
   ]
  },
  {
   "cell_type": "code",
   "execution_count": 9,
   "metadata": {},
   "outputs": [],
   "source": [
    "client_dict={}"
   ]
  },
  {
   "cell_type": "code",
   "execution_count": 6,
   "metadata": {},
   "outputs": [],
   "source": [
    "def add_clients_each_quarter(dict,qt_key):\n",
    "    df_to_load= pd.read_csv(preprocessed_file_dict[qt_key])\n",
    "    num_of_rows=df_to_load.shape[0]\n",
    "    #print(df_to_load.shape)\n",
    "    column_list=['c_id','c_name']\n",
    "    filtered_df= df_to_load[column_list]\n",
    "    for i in range(num_of_rows):\n",
    "        list_a = filtered_df.loc[i]\n",
    "        try: \n",
    "            if list_a['c_name'] not in dict[str(list_a['c_id'])] : \n",
    "                dict[str(list_a['c_id'])].append(list_a['c_name'])\n",
    "        except: dict[str(list_a['c_id'])]=[list_a['c_name']]\n",
    "        \n",
    "            \n",
    "        \n",
    "        \n",
    "        \n",
    "    "
   ]
  },
  {
   "cell_type": "code",
   "execution_count": 7,
   "metadata": {},
   "outputs": [],
   "source": [
    "def add_clients_by_path(dict,path):\n",
    "    df_to_load= pd.read_csv(path)\n",
    "    num_of_rows=df_to_load.shape[0]\n",
    "    #print(df_to_load.shape)\n",
    "    column_list=['c_id','c_name']\n",
    "    filtered_df= df_to_load[column_list]\n",
    "    for i in range(num_of_rows):\n",
    "        list_a = filtered_df.loc[i]\n",
    "        try: \n",
    "            if list_a['c_name'] not in dict[str(list_a['c_id'])] : \n",
    "                dict[str(list_a['c_id'])].append(list_a['c_name'])\n",
    "        except: dict[str(list_a['c_id'])]=[list_a['c_name']]"
   ]
  },
  {
   "cell_type": "code",
   "execution_count": 15,
   "metadata": {},
   "outputs": [
    {
     "name": "stderr",
     "output_type": "stream",
     "text": [
      "C:\\Users\\nicoj\\AppData\\Local\\Temp\\ipykernel_36160\\1123778754.py:2: DtypeWarning: Columns (140) have mixed types. Specify dtype option on import or set low_memory=False.\n",
      "  df_to_load= pd.read_csv(preprocessed_file_dict[qt_key])\n"
     ]
    }
   ],
   "source": [
    "qt_key='20234'\n",
    "df_to_load= pd.read_csv(preprocessed_file_dict[qt_key])\n",
    "num_of_rows=df_to_load.shape[0]\n",
    "#print(df_to_load.shape)\n",
    "column_list=['c_id','c_name']\n",
    "filtered_df= df_to_load[column_list]\n",
    "for i in range(num_of_rows):\n",
    "    list_a = filtered_df.loc[i]\n",
    "    try: \n",
    "        if list_a['c_name'] not in client_dict[str(list_a['c_id'])] : \n",
    "            client_dict[str(list_a['c_id'])].append(list_a['c_name'])\n",
    "    except: client_dict[str(list_a['c_id'])]=[list_a['c_name']]"
   ]
  },
  {
   "cell_type": "code",
   "execution_count": 67,
   "metadata": {},
   "outputs": [
    {
     "data": {
      "text/plain": [
       "['WESTERN STATES REGIONAL COUNCIL OF CARPENTERS',\n",
       " 'WESTERN STATES REGIONAL COUNCIL OF CARPENTERS (FORMERLY KNOWN AS SWMSRCC)']"
      ]
     },
     "execution_count": 67,
     "metadata": {},
     "output_type": "execute_result"
    }
   ],
   "source": [
    "client_dict['209471']"
   ]
  },
  {
   "cell_type": "code",
   "execution_count": 14,
   "metadata": {},
   "outputs": [
    {
     "data": {
      "text/plain": [
       "['209471']"
      ]
     },
     "execution_count": 14,
     "metadata": {},
     "output_type": "execute_result"
    }
   ],
   "source": [
    "[c_id_key for c_id_key in client_dict if len(client_dict[c_id_key])!= 1]"
   ]
  },
  {
   "cell_type": "code",
   "execution_count": null,
   "metadata": {},
   "outputs": [],
   "source": [
    "for qt_key in tqdm.tqdm(preprocessed_file_dict):\n",
    "    add_clients_each_quarter(client_dict,qt_key)"
   ]
  },
  {
   "cell_type": "code",
   "execution_count": 23,
   "metadata": {},
   "outputs": [],
   "source": [
    "with open(\"LDA_data/client_dict.json\", 'w') as f:\n",
    "    json.dump(client_dict, f, indent=2)"
   ]
  },
  {
   "cell_type": "code",
   "execution_count": 22,
   "metadata": {},
   "outputs": [
    {
     "data": {
      "text/plain": [
       "0"
      ]
     },
     "execution_count": 22,
     "metadata": {},
     "output_type": "execute_result"
    }
   ],
   "source": [
    "57732-len(client_dict)"
   ]
  },
  {
   "cell_type": "code",
   "execution_count": 17,
   "metadata": {},
   "outputs": [],
   "source": [
    "client_dict={}"
   ]
  },
  {
   "cell_type": "code",
   "execution_count": 20,
   "metadata": {},
   "outputs": [],
   "source": [
    "#all relevant files list\n",
    "dirpath1='LDA_data/processed_additional'\n",
    "filelist1= [dirpath1+'/'+filename for filename in os.listdir(dirpath1) ]\n",
    "dirpath2='LDA_data/processed'\n",
    "filelist2= [dirpath2+'/'+filename for filename in os.listdir(dirpath2) ]\n",
    "loadfilelist=filelist1+filelist2"
   ]
  },
  {
   "cell_type": "code",
   "execution_count": null,
   "metadata": {},
   "outputs": [],
   "source": [
    "for path in tqdm.tqdm(loadfilelist):\n",
    "    add_clients_by_path(client_dict,path)"
   ]
  },
  {
   "cell_type": "code",
   "execution_count": 39,
   "metadata": {},
   "outputs": [],
   "source": [
    "registrant_dict={}"
   ]
  },
  {
   "cell_type": "code",
   "execution_count": 40,
   "metadata": {},
   "outputs": [],
   "source": [
    "def add_registrant_by_path(dict,path):\n",
    "    df_to_load= pd.read_csv(path)\n",
    "    num_of_rows=df_to_load.shape[0]\n",
    "    #print(df_to_load.shape)\n",
    "    column_list=['r_id','r_name','c_id']\n",
    "    filtered_df= df_to_load[column_list]\n",
    "    for i in range(num_of_rows):\n",
    "        list_a = filtered_df.loc[i]\n",
    "        registrant_id_key=str(list_a['r_id'])\n",
    "        registrant_name_key=str(list_a['r_name'])\n",
    "        client_id_key=str(list_a['c_id'])\n",
    "        if registrant_id_key not in dict.keys():\n",
    "            dict[registrant_id_key]=[[],[]]\n",
    "        if registrant_name_key not in dict[registrant_id_key][0]: \n",
    "                dict[registrant_id_key][0].append(registrant_name_key)\n",
    "        if client_id_key not in dict[registrant_id_key][1]: \n",
    "                dict[registrant_id_key][1].append(client_id_key)"
   ]
  },
  {
   "cell_type": "code",
   "execution_count": null,
   "metadata": {},
   "outputs": [],
   "source": [
    "for path in tqdm.tqdm(loadfilelist):\n",
    "    add_registrant_by_path(registrant_dict,path)"
   ]
  },
  {
   "cell_type": "code",
   "execution_count": 49,
   "metadata": {},
   "outputs": [],
   "source": [
    "with open(\"LDA_data/registrant_dict.json\", 'w') as f:\n",
    "    json.dump(registrant_dict, f, indent=2)"
   ]
  },
  {
   "cell_type": "code",
   "execution_count": 43,
   "metadata": {},
   "outputs": [
    {
     "data": {
      "text/plain": [
       "8431"
      ]
     },
     "execution_count": 43,
     "metadata": {},
     "output_type": "execute_result"
    }
   ],
   "source": [
    "len(registrant_dict)"
   ]
  },
  {
   "cell_type": "code",
   "execution_count": 44,
   "metadata": {},
   "outputs": [
    {
     "data": {
      "text/plain": [
       "57732"
      ]
     },
     "execution_count": 44,
     "metadata": {},
     "output_type": "execute_result"
    }
   ],
   "source": [
    "sum([len(registrant_dict[key][1])for key in registrant_dict])"
   ]
  },
  {
   "cell_type": "code",
   "execution_count": 46,
   "metadata": {},
   "outputs": [
    {
     "data": {
      "text/plain": [
       "['21563']"
      ]
     },
     "execution_count": 46,
     "metadata": {},
     "output_type": "execute_result"
    }
   ],
   "source": [
    "[key for key in registrant_dict if len(registrant_dict[key][0])!=1]"
   ]
  },
  {
   "cell_type": "code",
   "execution_count": 48,
   "metadata": {},
   "outputs": [
    {
     "data": {
      "text/plain": [
       "['KTS STRATEGIES LLC F/K/A KILPATRICK TOWNSEND AND STOCKTON',\n",
       " 'KILPATRICK TOWNSEND & STOCKTON']"
      ]
     },
     "execution_count": 48,
     "metadata": {},
     "output_type": "execute_result"
    }
   ],
   "source": [
    "registrant_dict['21563'][0]"
   ]
  },
  {
   "cell_type": "code",
   "execution_count": null,
   "metadata": {},
   "outputs": [],
   "source": [
    "all_client_names=[]\n",
    "for key in client_dict:\n",
    "    all_client_names=all_client_names+ client_dict[key]\n",
    "all_client_names"
   ]
  },
  {
   "cell_type": "code",
   "execution_count": 93,
   "metadata": {},
   "outputs": [],
   "source": [
    "from fuzzywuzzy import fuzz\n",
    "from fuzzywuzzy import process"
   ]
  },
  {
   "cell_type": "code",
   "execution_count": 98,
   "metadata": {},
   "outputs": [
    {
     "data": {
      "text/plain": [
       "[('PFIZER INC.', 100),\n",
       " ('PFIZER', 100),\n",
       " ('PFIZER', 100),\n",
       " ('PFIZER AUSTRALIA PTY LTD', 100),\n",
       " ('PFIZER INC.', 100),\n",
       " ('PFIZER, INC.', 100),\n",
       " ('PFIZER, INC.', 100),\n",
       " ('PFIZER INC.', 100),\n",
       " ('PFIZER', 100),\n",
       " ('PFIZER INC', 100),\n",
       " ('PFIZER, INC.', 100),\n",
       " ('PFIZER INC.', 100),\n",
       " ('PFIZER, INC.', 100),\n",
       " ('PFIZER INC.', 100),\n",
       " ('PFIZER, INC', 100),\n",
       " ('PFIZER INC', 100),\n",
       " ('PFIZER, INC.', 100),\n",
       " ('PFIZER', 100),\n",
       " ('PFIZER INC.', 100),\n",
       " ('PFI', 100),\n",
       " ('PFIZER', 100),\n",
       " ('PFIZER INC.', 100),\n",
       " ('PFIZER', 100),\n",
       " ('PFIZER INC.', 100),\n",
       " ('PFIZER INC.', 100),\n",
       " ('PFIZER, INC.', 100),\n",
       " ('PFIZER, INC.', 100),\n",
       " ('PFIZER', 100),\n",
       " ('PFIZER, INC.', 100),\n",
       " ('PFIZER, INC.', 100),\n",
       " ('PFIZER INC', 100),\n",
       " ('PFIZER INC.', 100),\n",
       " ('PFIZER, INC.', 100),\n",
       " ('PFIZER INC.', 100),\n",
       " ('PFIZER', 100),\n",
       " ('PFIZER INC.', 100),\n",
       " ('PFIZER INC', 100)]"
      ]
     },
     "execution_count": 98,
     "metadata": {},
     "output_type": "execute_result"
    }
   ],
   "source": [
    "string_to_search='PFIZER'\n",
    "[(name,fuzz.partial_ratio(string_to_search, name)) for name in all_client_names if fuzz.partial_ratio(string_to_search, name)>87]\n"
   ]
  },
  {
   "cell_type": "code",
   "execution_count": 59,
   "metadata": {},
   "outputs": [
    {
     "data": {
      "text/plain": [
       "'284950'"
      ]
     },
     "execution_count": 59,
     "metadata": {},
     "output_type": "execute_result"
    }
   ],
   "source": [
    "list(registrant_dict.keys())[0]"
   ]
  },
  {
   "cell_type": "code",
   "execution_count": 80,
   "metadata": {},
   "outputs": [
    {
     "data": {
      "text/plain": [
       "78"
      ]
     },
     "execution_count": 80,
     "metadata": {},
     "output_type": "execute_result"
    }
   ],
   "source": [
    "fuzz.partial_ratio('Microloft inc. loremipsumnsdajkbfrjkbfrskj','microsoft')"
   ]
  },
  {
   "cell_type": "code",
   "execution_count": 82,
   "metadata": {},
   "outputs": [
    {
     "data": {
      "text/plain": [
       "['ARKEL INTERNATIONAL',\n",
       " 'WATERFORD INSTITUTE',\n",
       " 'ASSOCIATION FOR BEHAVIORAL HEALTH AND WELLNESS',\n",
       " 'GENERAL DYNAMICS',\n",
       " 'NATIONAL ASSOCIATION OF COUNCILS ON DEVELOPMENTAL DISABILITIES']"
      ]
     },
     "execution_count": 82,
     "metadata": {},
     "output_type": "execute_result"
    }
   ],
   "source": [
    "all_client_names[10000:10005]"
   ]
  },
  {
   "cell_type": "code",
   "execution_count": 84,
   "metadata": {},
   "outputs": [
    {
     "data": {
      "text/plain": [
       "15"
      ]
     },
     "execution_count": 84,
     "metadata": {},
     "output_type": "execute_result"
    }
   ],
   "source": [
    "fuzz.partial_ratio('ASSOCIATION FOR BEHAVIORAL HEALTH AND WELLNESS', 'heal and well')"
   ]
  },
  {
   "cell_type": "code",
   "execution_count": 10,
   "metadata": {},
   "outputs": [],
   "source": [
    "company = pd.read_pickle('assets/processed_companyData.pkl') #company market data"
   ]
  },
  {
   "cell_type": "code",
   "execution_count": 11,
   "metadata": {},
   "outputs": [
    {
     "data": {
      "text/html": [
       "<div>\n",
       "<style scoped>\n",
       "    .dataframe tbody tr th:only-of-type {\n",
       "        vertical-align: middle;\n",
       "    }\n",
       "\n",
       "    .dataframe tbody tr th {\n",
       "        vertical-align: top;\n",
       "    }\n",
       "\n",
       "    .dataframe thead th {\n",
       "        text-align: right;\n",
       "    }\n",
       "</style>\n",
       "<table border=\"1\" class=\"dataframe\">\n",
       "  <thead>\n",
       "    <tr style=\"text-align: right;\">\n",
       "      <th></th>\n",
       "      <th>ticker</th>\n",
       "      <th>title</th>\n",
       "      <th>assets</th>\n",
       "      <th>sector</th>\n",
       "      <th>industry</th>\n",
       "      <th>assets_summary</th>\n",
       "    </tr>\n",
       "  </thead>\n",
       "  <tbody>\n",
       "    <tr>\n",
       "      <th>0</th>\n",
       "      <td>MSFT</td>\n",
       "      <td>MICROSOFT CORP</td>\n",
       "      <td>{'label': 'Assets', 'description': 'Sum of the...</td>\n",
       "      <td>Technology</td>\n",
       "      <td>Software—Infrastructure</td>\n",
       "      <td>end           val quarter  year\n",
       "0  ...</td>\n",
       "    </tr>\n",
       "    <tr>\n",
       "      <th>1</th>\n",
       "      <td>AAPL</td>\n",
       "      <td>Apple Inc.</td>\n",
       "      <td>{'label': 'Assets', 'description': 'Sum of the...</td>\n",
       "      <td>Technology</td>\n",
       "      <td>Consumer Electronics</td>\n",
       "      <td>end           val quarter  year\n",
       "0  ...</td>\n",
       "    </tr>\n",
       "    <tr>\n",
       "      <th>2</th>\n",
       "      <td>NVDA</td>\n",
       "      <td>NVIDIA CORP</td>\n",
       "      <td>{'label': 'Assets', 'description': 'Sum of the...</td>\n",
       "      <td>Technology</td>\n",
       "      <td>Semiconductors</td>\n",
       "      <td>end           val quarter  year\n",
       "0  ...</td>\n",
       "    </tr>\n",
       "    <tr>\n",
       "      <th>3</th>\n",
       "      <td>AMZN</td>\n",
       "      <td>AMAZON COM INC</td>\n",
       "      <td>{'label': 'Assets', 'description': 'Sum of the...</td>\n",
       "      <td>Consumer Cyclical</td>\n",
       "      <td>Internet Retail</td>\n",
       "      <td>end           val quarter  year\n",
       "0  ...</td>\n",
       "    </tr>\n",
       "    <tr>\n",
       "      <th>4</th>\n",
       "      <td>GOOGL</td>\n",
       "      <td>Alphabet Inc.</td>\n",
       "      <td>{'label': 'Assets', 'description': 'Sum of the...</td>\n",
       "      <td>Communication Services</td>\n",
       "      <td>Internet Content &amp; Information</td>\n",
       "      <td>end           val quarter  year\n",
       "0  ...</td>\n",
       "    </tr>\n",
       "  </tbody>\n",
       "</table>\n",
       "</div>"
      ],
      "text/plain": [
       "  ticker           title                                             assets  \\\n",
       "0   MSFT  MICROSOFT CORP  {'label': 'Assets', 'description': 'Sum of the...   \n",
       "1   AAPL      Apple Inc.  {'label': 'Assets', 'description': 'Sum of the...   \n",
       "2   NVDA     NVIDIA CORP  {'label': 'Assets', 'description': 'Sum of the...   \n",
       "3   AMZN  AMAZON COM INC  {'label': 'Assets', 'description': 'Sum of the...   \n",
       "4  GOOGL   Alphabet Inc.  {'label': 'Assets', 'description': 'Sum of the...   \n",
       "\n",
       "                   sector                        industry  \\\n",
       "0              Technology         Software—Infrastructure   \n",
       "1              Technology            Consumer Electronics   \n",
       "2              Technology                  Semiconductors   \n",
       "3       Consumer Cyclical                 Internet Retail   \n",
       "4  Communication Services  Internet Content & Information   \n",
       "\n",
       "                                      assets_summary  \n",
       "0             end           val quarter  year\n",
       "0  ...  \n",
       "1             end           val quarter  year\n",
       "0  ...  \n",
       "2             end           val quarter  year\n",
       "0  ...  \n",
       "3             end           val quarter  year\n",
       "0  ...  \n",
       "4             end           val quarter  year\n",
       "0  ...  "
      ]
     },
     "execution_count": 11,
     "metadata": {},
     "output_type": "execute_result"
    }
   ],
   "source": [
    "company.head()"
   ]
  },
  {
   "cell_type": "code",
   "execution_count": 13,
   "metadata": {},
   "outputs": [
    {
     "data": {
      "text/plain": [
       "(2982, 6)"
      ]
     },
     "execution_count": 13,
     "metadata": {},
     "output_type": "execute_result"
    }
   ],
   "source": [
    "sector_dict={}\n",
    "company.shape"
   ]
  },
  {
   "cell_type": "code",
   "execution_count": null,
   "metadata": {},
   "outputs": [],
   "source": [
    "def populate_sector_dict(dict, df):\n",
    "    nrows=df.shape[0]\n",
    "    filtered_df=df[['ticker','']]\n",
    "    for i in range(nrows):\n",
    "        "
   ]
  }
 ],
 "metadata": {
  "kernelspec": {
   "display_name": "nicoenv",
   "language": "python",
   "name": "python3"
  },
  "language_info": {
   "codemirror_mode": {
    "name": "ipython",
    "version": 3
   },
   "file_extension": ".py",
   "mimetype": "text/x-python",
   "name": "python",
   "nbconvert_exporter": "python",
   "pygments_lexer": "ipython3",
   "version": "3.12.2"
  }
 },
 "nbformat": 4,
 "nbformat_minor": 2
}
