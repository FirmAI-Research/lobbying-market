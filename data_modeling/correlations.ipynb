{
 "cells": [
  {
   "cell_type": "code",
   "execution_count": 1,
   "metadata": {},
   "outputs": [
    {
     "name": "stdout",
     "output_type": "stream",
     "text": [
      "c:\\Users\\nicoj\\OneDrive - University Of Oregon\\GitHub\\lobbying-market\n"
     ]
    }
   ],
   "source": [
    "import os, sys\n",
    "import pandas as pd \n",
    "import numpy as np\n",
    "from tqdm import tqdm\n",
    "tqdm.pandas() # for progress_apply\n",
    "\n",
    "parent_dir_name=os.path.basename(os.path.dirname(os.getcwd()))\n",
    "if parent_dir_name=='lobbying-market':\n",
    "    os.chdir(os.path.pardir)\n",
    "    print(os.getcwd())\n",
    "    utils_path= os.path.abspath('utils')\n",
    "    sys.path.append(utils_path)\n",
    "\n",
    "import matplotlib.pyplot as plt\n",
    "import seaborn as sns\n",
    "\n",
    "sns.set_theme(style=\"whitegrid\")"
   ]
  },
  {
   "cell_type": "code",
   "execution_count": 2,
   "metadata": {},
   "outputs": [
    {
     "data": {
      "text/plain": [
       "'c:\\\\Users\\\\nicoj\\\\OneDrive - University Of Oregon\\\\GitHub\\\\lobbying-market'"
      ]
     },
     "execution_count": 2,
     "metadata": {},
     "output_type": "execute_result"
    }
   ],
   "source": [
    "os.getcwd()"
   ]
  },
  {
   "cell_type": "code",
   "execution_count": 3,
   "metadata": {},
   "outputs": [
    {
     "data": {
      "text/html": [
       "<div>\n",
       "<style scoped>\n",
       "    .dataframe tbody tr th:only-of-type {\n",
       "        vertical-align: middle;\n",
       "    }\n",
       "\n",
       "    .dataframe tbody tr th {\n",
       "        vertical-align: top;\n",
       "    }\n",
       "\n",
       "    .dataframe thead th {\n",
       "        text-align: right;\n",
       "    }\n",
       "</style>\n",
       "<table border=\"1\" class=\"dataframe\">\n",
       "  <thead>\n",
       "    <tr style=\"text-align: right;\">\n",
       "      <th></th>\n",
       "      <th></th>\n",
       "      <th></th>\n",
       "      <th>count</th>\n",
       "      <th>nan</th>\n",
       "      <th>income</th>\n",
       "      <th>expenses</th>\n",
       "      <th>total</th>\n",
       "      <th>end</th>\n",
       "      <th>val</th>\n",
       "      <th>qtstr</th>\n",
       "      <th>sector</th>\n",
       "      <th>industry</th>\n",
       "      <th>market_performance</th>\n",
       "      <th>ratio</th>\n",
       "      <th>income_ratio</th>\n",
       "      <th>expenses_ratio</th>\n",
       "      <th>total_ratio</th>\n",
       "    </tr>\n",
       "    <tr>\n",
       "      <th>ticker</th>\n",
       "      <th>year</th>\n",
       "      <th>quarter</th>\n",
       "      <th></th>\n",
       "      <th></th>\n",
       "      <th></th>\n",
       "      <th></th>\n",
       "      <th></th>\n",
       "      <th></th>\n",
       "      <th></th>\n",
       "      <th></th>\n",
       "      <th></th>\n",
       "      <th></th>\n",
       "      <th></th>\n",
       "      <th></th>\n",
       "      <th></th>\n",
       "      <th></th>\n",
       "      <th></th>\n",
       "    </tr>\n",
       "  </thead>\n",
       "  <tbody>\n",
       "    <tr>\n",
       "      <th rowspan=\"5\" valign=\"top\">MSFT</th>\n",
       "      <th rowspan=\"4\" valign=\"top\">2013</th>\n",
       "      <th>1</th>\n",
       "      <td>23.0</td>\n",
       "      <td>0.0</td>\n",
       "      <td>1057500.0</td>\n",
       "      <td>2530000.0</td>\n",
       "      <td>3587500.0</td>\n",
       "      <td>2013-03-31</td>\n",
       "      <td>1.341050e+11</td>\n",
       "      <td>Q1</td>\n",
       "      <td>Technology</td>\n",
       "      <td>Software—Infrastructure</td>\n",
       "      <td>9.003151</td>\n",
       "      <td>0.000022</td>\n",
       "      <td>0.000007</td>\n",
       "      <td>0.000022</td>\n",
       "      <td>0.000029</td>\n",
       "    </tr>\n",
       "    <tr>\n",
       "      <th>2</th>\n",
       "      <td>23.0</td>\n",
       "      <td>0.0</td>\n",
       "      <td>980000.0</td>\n",
       "      <td>2960000.0</td>\n",
       "      <td>3940000.0</td>\n",
       "      <td>2013-06-30</td>\n",
       "      <td>1.424310e+11</td>\n",
       "      <td>Q2</td>\n",
       "      <td>Technology</td>\n",
       "      <td>Software—Infrastructure</td>\n",
       "      <td>-2.685384</td>\n",
       "      <td>0.000016</td>\n",
       "      <td>0.000007</td>\n",
       "      <td>0.000016</td>\n",
       "      <td>0.000023</td>\n",
       "    </tr>\n",
       "    <tr>\n",
       "      <th>3</th>\n",
       "      <td>23.0</td>\n",
       "      <td>0.0</td>\n",
       "      <td>987000.0</td>\n",
       "      <td>2230000.0</td>\n",
       "      <td>3217000.0</td>\n",
       "      <td>2013-09-30</td>\n",
       "      <td>1.423480e+11</td>\n",
       "      <td>Q3</td>\n",
       "      <td>Technology</td>\n",
       "      <td>Software—Infrastructure</td>\n",
       "      <td>4.801043</td>\n",
       "      <td>0.000019</td>\n",
       "      <td>0.000008</td>\n",
       "      <td>0.000019</td>\n",
       "      <td>0.000027</td>\n",
       "    </tr>\n",
       "    <tr>\n",
       "      <th>4</th>\n",
       "      <td>24.0</td>\n",
       "      <td>0.0</td>\n",
       "      <td>1070000.0</td>\n",
       "      <td>2770000.0</td>\n",
       "      <td>3840000.0</td>\n",
       "      <td>2013-12-31</td>\n",
       "      <td>1.535430e+11</td>\n",
       "      <td>Q4</td>\n",
       "      <td>Technology</td>\n",
       "      <td>Software—Infrastructure</td>\n",
       "      <td>6.418472</td>\n",
       "      <td>0.000014</td>\n",
       "      <td>0.000006</td>\n",
       "      <td>0.000014</td>\n",
       "      <td>0.000020</td>\n",
       "    </tr>\n",
       "    <tr>\n",
       "      <th>2014</th>\n",
       "      <th>1</th>\n",
       "      <td>22.0</td>\n",
       "      <td>0.0</td>\n",
       "      <td>937000.0</td>\n",
       "      <td>2080000.0</td>\n",
       "      <td>3017000.0</td>\n",
       "      <td>2014-03-31</td>\n",
       "      <td>1.561190e+11</td>\n",
       "      <td>Q1</td>\n",
       "      <td>Technology</td>\n",
       "      <td>Software—Infrastructure</td>\n",
       "      <td>3.987568</td>\n",
       "      <td>0.000015</td>\n",
       "      <td>0.000006</td>\n",
       "      <td>0.000015</td>\n",
       "      <td>0.000021</td>\n",
       "    </tr>\n",
       "  </tbody>\n",
       "</table>\n",
       "</div>"
      ],
      "text/plain": [
       "                     count  nan     income   expenses      total         end  \\\n",
       "ticker year quarter                                                            \n",
       "MSFT   2013 1         23.0  0.0  1057500.0  2530000.0  3587500.0  2013-03-31   \n",
       "            2         23.0  0.0   980000.0  2960000.0  3940000.0  2013-06-30   \n",
       "            3         23.0  0.0   987000.0  2230000.0  3217000.0  2013-09-30   \n",
       "            4         24.0  0.0  1070000.0  2770000.0  3840000.0  2013-12-31   \n",
       "       2014 1         22.0  0.0   937000.0  2080000.0  3017000.0  2014-03-31   \n",
       "\n",
       "                              val qtstr      sector                 industry  \\\n",
       "ticker year quarter                                                            \n",
       "MSFT   2013 1        1.341050e+11    Q1  Technology  Software—Infrastructure   \n",
       "            2        1.424310e+11    Q2  Technology  Software—Infrastructure   \n",
       "            3        1.423480e+11    Q3  Technology  Software—Infrastructure   \n",
       "            4        1.535430e+11    Q4  Technology  Software—Infrastructure   \n",
       "       2014 1        1.561190e+11    Q1  Technology  Software—Infrastructure   \n",
       "\n",
       "                     market_performance     ratio  income_ratio  \\\n",
       "ticker year quarter                                               \n",
       "MSFT   2013 1                  9.003151  0.000022      0.000007   \n",
       "            2                 -2.685384  0.000016      0.000007   \n",
       "            3                  4.801043  0.000019      0.000008   \n",
       "            4                  6.418472  0.000014      0.000006   \n",
       "       2014 1                  3.987568  0.000015      0.000006   \n",
       "\n",
       "                     expenses_ratio  total_ratio  \n",
       "ticker year quarter                               \n",
       "MSFT   2013 1              0.000022     0.000029  \n",
       "            2              0.000016     0.000023  \n",
       "            3              0.000019     0.000027  \n",
       "            4              0.000014     0.000020  \n",
       "       2014 1              0.000015     0.000021  "
      ]
     },
     "execution_count": 3,
     "metadata": {},
     "output_type": "execute_result"
    }
   ],
   "source": [
    "df=pd.read_pickle('data_processing/yfinance_stocks_scrape/data_with_mp.pkl')\n",
    "df.head()"
   ]
  },
  {
   "cell_type": "code",
   "execution_count": 4,
   "metadata": {},
   "outputs": [
    {
     "name": "stdout",
     "output_type": "stream",
     "text": [
      "Index(['MSFT', 'AAPL', 'NVDA', 'AMZN', 'GOOGL', 'META', 'TSLA', 'COST', 'AMD',\n",
      "       'NFLX', 'PEP', 'ADBE', 'CSCO', 'TMUS', 'QCOM'],\n",
      "      dtype='object', name='ticker')\n"
     ]
    }
   ],
   "source": [
    "tickers = df.index.get_level_values(0).unique()\n",
    "print(tickers[:15])"
   ]
  },
  {
   "cell_type": "code",
   "execution_count": 5,
   "metadata": {},
   "outputs": [
    {
     "data": {
      "text/html": [
       "<div>\n",
       "<style scoped>\n",
       "    .dataframe tbody tr th:only-of-type {\n",
       "        vertical-align: middle;\n",
       "    }\n",
       "\n",
       "    .dataframe tbody tr th {\n",
       "        vertical-align: top;\n",
       "    }\n",
       "\n",
       "    .dataframe thead th {\n",
       "        text-align: right;\n",
       "    }\n",
       "</style>\n",
       "<table border=\"1\" class=\"dataframe\">\n",
       "  <thead>\n",
       "    <tr style=\"text-align: right;\">\n",
       "      <th></th>\n",
       "      <th>income_ratio</th>\n",
       "      <th>expenses_ratio</th>\n",
       "      <th>total_ratio</th>\n",
       "      <th>market_performance</th>\n",
       "    </tr>\n",
       "    <tr>\n",
       "      <th>ticker</th>\n",
       "      <th></th>\n",
       "      <th></th>\n",
       "      <th></th>\n",
       "      <th></th>\n",
       "    </tr>\n",
       "  </thead>\n",
       "  <tbody>\n",
       "    <tr>\n",
       "      <th>GOOGL</th>\n",
       "      <td>-0.167338</td>\n",
       "      <td>-0.18946</td>\n",
       "      <td>-0.18749</td>\n",
       "      <td>1.0</td>\n",
       "    </tr>\n",
       "  </tbody>\n",
       "</table>\n",
       "</div>"
      ],
      "text/plain": [
       "        income_ratio  expenses_ratio  total_ratio  market_performance\n",
       "ticker                                                               \n",
       "GOOGL      -0.167338        -0.18946     -0.18749                 1.0"
      ]
     },
     "execution_count": 5,
     "metadata": {},
     "output_type": "execute_result"
    }
   ],
   "source": [
    "key='GOOGL'\n",
    "corr_df=df[['income_ratio','expenses_ratio','total_ratio', 'market_performance']].loc[key,:,:].corr()\n",
    "corr_df['ticker']=key\n",
    "corr_df.set_index('ticker',inplace=True)\n",
    "corr_df.iloc[[3]]"
   ]
  },
  {
   "cell_type": "code",
   "execution_count": 6,
   "metadata": {},
   "outputs": [
    {
     "name": "stderr",
     "output_type": "stream",
     "text": [
      "C:\\Users\\nicoj\\AppData\\Local\\Temp\\ipykernel_34356\\920736812.py:7: FutureWarning: The behavior of DataFrame concatenation with empty or all-NA entries is deprecated. In a future version, this will no longer exclude empty or all-NA columns when determining the result dtypes. To retain the old behavior, exclude the relevant entries before the concat operation.\n",
      "  all_corr_df=pd.concat([all_corr_df,aux_row])\n"
     ]
    }
   ],
   "source": [
    "all_corr_df=pd.DataFrame(columns=['income_ratio','expenses_ratio','total_ratio', 'market_performance'])\n",
    "for key in tickers:\n",
    "    corr_df=df[['income_ratio','expenses_ratio','total_ratio', 'market_performance']].loc[key,:,:].corr()\n",
    "    corr_df['ticker']=key\n",
    "    corr_df.set_index('ticker',inplace=True)\n",
    "    aux_row=corr_df.iloc[[3]]\n",
    "    all_corr_df=pd.concat([all_corr_df,aux_row])"
   ]
  },
  {
   "cell_type": "code",
   "execution_count": 7,
   "metadata": {},
   "outputs": [
    {
     "data": {
      "text/html": [
       "<div>\n",
       "<style scoped>\n",
       "    .dataframe tbody tr th:only-of-type {\n",
       "        vertical-align: middle;\n",
       "    }\n",
       "\n",
       "    .dataframe tbody tr th {\n",
       "        vertical-align: top;\n",
       "    }\n",
       "\n",
       "    .dataframe thead th {\n",
       "        text-align: right;\n",
       "    }\n",
       "</style>\n",
       "<table border=\"1\" class=\"dataframe\">\n",
       "  <thead>\n",
       "    <tr style=\"text-align: right;\">\n",
       "      <th></th>\n",
       "      <th>income_ratio</th>\n",
       "      <th>expenses_ratio</th>\n",
       "      <th>total_ratio</th>\n",
       "      <th>market_performance</th>\n",
       "    </tr>\n",
       "  </thead>\n",
       "  <tbody>\n",
       "    <tr>\n",
       "      <th>MSFT</th>\n",
       "      <td>0.043363</td>\n",
       "      <td>-0.032453</td>\n",
       "      <td>-0.012117</td>\n",
       "      <td>1.0</td>\n",
       "    </tr>\n",
       "    <tr>\n",
       "      <th>AAPL</th>\n",
       "      <td>0.092302</td>\n",
       "      <td>0.210068</td>\n",
       "      <td>0.203798</td>\n",
       "      <td>1.0</td>\n",
       "    </tr>\n",
       "    <tr>\n",
       "      <th>NVDA</th>\n",
       "      <td>0.326888</td>\n",
       "      <td>NaN</td>\n",
       "      <td>0.326888</td>\n",
       "      <td>1.0</td>\n",
       "    </tr>\n",
       "    <tr>\n",
       "      <th>AMZN</th>\n",
       "      <td>0.156252</td>\n",
       "      <td>0.342212</td>\n",
       "      <td>0.318173</td>\n",
       "      <td>1.0</td>\n",
       "    </tr>\n",
       "    <tr>\n",
       "      <th>GOOGL</th>\n",
       "      <td>-0.167338</td>\n",
       "      <td>-0.189460</td>\n",
       "      <td>-0.187490</td>\n",
       "      <td>1.0</td>\n",
       "    </tr>\n",
       "  </tbody>\n",
       "</table>\n",
       "</div>"
      ],
      "text/plain": [
       "       income_ratio  expenses_ratio  total_ratio  market_performance\n",
       "MSFT       0.043363       -0.032453    -0.012117                 1.0\n",
       "AAPL       0.092302        0.210068     0.203798                 1.0\n",
       "NVDA       0.326888             NaN     0.326888                 1.0\n",
       "AMZN       0.156252        0.342212     0.318173                 1.0\n",
       "GOOGL     -0.167338       -0.189460    -0.187490                 1.0"
      ]
     },
     "execution_count": 7,
     "metadata": {},
     "output_type": "execute_result"
    }
   ],
   "source": [
    "all_corr_df.head()"
   ]
  },
  {
   "cell_type": "code",
   "execution_count": null,
   "metadata": {},
   "outputs": [],
   "source": []
  }
 ],
 "metadata": {
  "kernelspec": {
   "display_name": "erdos_sp_2024",
   "language": "python",
   "name": "python3"
  },
  "language_info": {
   "codemirror_mode": {
    "name": "ipython",
    "version": 3
   },
   "file_extension": ".py",
   "mimetype": "text/x-python",
   "name": "python",
   "nbconvert_exporter": "python",
   "pygments_lexer": "ipython3",
   "version": "3.11.7"
  }
 },
 "nbformat": 4,
 "nbformat_minor": 2
}
