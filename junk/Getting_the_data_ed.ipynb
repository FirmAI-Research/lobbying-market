{
 "cells": [
  {
   "cell_type": "markdown",
   "metadata": {},
   "source": [
    "## Getting the data"
   ]
  },
  {
   "cell_type": "markdown",
   "metadata": {},
   "source": [
    "In this Jupyter notebook, I want to keep track of a few things:\n",
    "1. Where we are sourcing our data.\n",
    "2. The method by which we obtain data (e.g. scraping, using an API, etc.)\n",
    "3. Some preliminary data cleaning and organization."
   ]
  },
  {
   "cell_type": "markdown",
   "metadata": {},
   "source": [
    "Recall that we are trying to identify a relationship between the lobbying behavior and the individual stock trades of congresspeople. Let's start with the lobbying data."
   ]
  },
  {
   "cell_type": "markdown",
   "metadata": {},
   "source": [
    "### Lobbying data"
   ]
  },
  {
   "cell_type": "markdown",
   "metadata": {},
   "source": [
    "#### opensecrets.org"
   ]
  },
  {
   "cell_type": "markdown",
   "metadata": {},
   "source": [
    "opensecrets.org is a non-profit watchdog organization that tries to keep track of money in politics. I think it is a good first place to look for finding out the different types of \"money\" in politics, and for determining broad-stroke data about such money. For instance - it has information on\n",
    "1. Personal financial disclosures of congresspeople and estimates of their net worth.\n",
    "2. Campaign contributions/ fundraising data.\n",
    "3. Political ads by industries, either through 527s (issue advocacy groups) or PACs (often businesses, labor unions, or ideological interests)\n",
    "4. __Domestic and foreign lobbying efforts, in the traditional sense__.\n",
    "   \n",
    "This last one is what we are most interested in, at least for an initial pass. \n",
    "\n",
    "NB: All the data opensecrets.org has is itself aggregated from different sources. In particular, data on lobbying efforts is all taken from disclosures from the office of the senate - we will look at this source next, as it is likely more granular in nature."
   ]
  },
  {
   "cell_type": "markdown",
   "metadata": {},
   "source": [
    "We will use the CRP API from opensecrets.org for access to some of their data.\n",
    "The API is easy to register for here: https://www.opensecrets.org/open-data/api. There is a python client library, due to Rob Remington, \"opensecrets-crpapi\" which allows us to interface with the CRP API through python. See: https://github.com/robrem/opensecrets-crpapi.\n",
    "We now use this to download some data.\n"
   ]
  },
  {
   "cell_type": "code",
   "execution_count": 1,
   "metadata": {},
   "outputs": [
    {
     "name": "stdout",
     "output_type": "stream",
     "text": [
      "Requirement already satisfied: opensecrets-crpapi in /home/edr/mambaforge/envs/lobbying/lib/python3.11/site-packages (0.2.2)\n",
      "Requirement already satisfied: httplib2 in /home/edr/mambaforge/envs/lobbying/lib/python3.11/site-packages (from opensecrets-crpapi) (0.22.0)\n",
      "Requirement already satisfied: pyparsing!=3.0.0,!=3.0.1,!=3.0.2,!=3.0.3,<4,>=2.4.2 in /home/edr/mambaforge/envs/lobbying/lib/python3.11/site-packages (from httplib2->opensecrets-crpapi) (3.1.1)\n"
     ]
    }
   ],
   "source": [
    "!pip install opensecrets-crpapi"
   ]
  },
  {
   "cell_type": "code",
   "execution_count": 8,
   "metadata": {},
   "outputs": [
    {
     "name": "stdout",
     "output_type": "stream",
     "text": [
      "['BASE_URI', '__class__', '__delattr__', '__dict__', '__dir__', '__doc__', '__eq__', '__format__', '__ge__', '__getattribute__', '__getstate__', '__gt__', '__hash__', '__init__', '__init_subclass__', '__le__', '__lt__', '__module__', '__ne__', '__new__', '__reduce__', '__reduce_ex__', '__repr__', '__setattr__', '__sizeof__', '__str__', '__subclasshook__', '__weakref__', 'apikey', 'candidates', 'committees', 'fetch', 'http', 'indexp', 'orgs']\n"
     ]
    }
   ],
   "source": [
    "from crpapi import CRP\n",
    "from ed.API_keys import get_opensecrets_key\n",
    "\n",
    "crp=CRP(get_opensecrets_key()) #makes a CRP object\n",
    "\n",
    "object_methods = [method_name for method_name in dir(crp) if callable(getattr(crp, method_name))]\n",
    "print(dir(crp))\n",
    "\n"
   ]
  },
  {
   "cell_type": "code",
   "execution_count": 23,
   "metadata": {},
   "outputs": [
    {
     "name": "stdout",
     "output_type": "stream",
     "text": [
      "Nancy Pelosi\n",
      "Facebook Inc\n",
      "O'Rourke, Beto\n",
      "1987\n"
     ]
    }
   ],
   "source": [
    "# get a specific legislator by CID\n",
    "cand = crp.candidates.get('N00007360')\n",
    "print(cand['@attributes']['firstlast'])\n",
    "\n",
    "# get the top contributors to a candidate for a specific cycle\n",
    "contribs = crp.candidates.contrib('N00007360', '2016')\n",
    "print(contribs[0]['@attributes']['org_name'])\n",
    "\n",
    "# get fundraising information for a committee's members, by industry\n",
    "cmte = crp.committees.cmte_by_ind('HARM', 'F10')\n",
    "print(cmte[0]['@attributes']['member_name'])\n",
    "\n",
    "# use fetch to access the endpoints more directly, without pre-parsed results\n",
    "summ = crp.fetch('candSummary', cid='N00007360')\n",
    "print(summ['summary']['@attributes']['first_elected'])"
   ]
  },
  {
   "cell_type": "code",
   "execution_count": 30,
   "metadata": {},
   "outputs": [
    {
     "name": "stdout",
     "output_type": "stream",
     "text": [
      "['Facebook Inc', 'Google Inc', 'Intel Corp', 'Boeing Co', 'Oracle Corp', 'Certain Software Inc', 'Mackenzie Capital Management', 'Marcus & Millichap', 'Peter G Peterson Foundation', 'R&S Assoc']\n",
      "6450\n"
     ]
    }
   ],
   "source": [
    "print([contribs[n]['@attributes']['org_name'] for n in range(len(contribs))])\n",
    "print(contribs[0]['@attributes']['indivs'])"
   ]
  },
  {
   "cell_type": "markdown",
   "metadata": {},
   "source": [
    "### Lobbying disclosures from the Office of the Senate"
   ]
  },
  {
   "cell_type": "markdown",
   "metadata": {},
   "source": []
  }
 ],
 "metadata": {
  "kernelspec": {
   "display_name": "erdos_sp_2024",
   "language": "python",
   "name": "python3"
  },
  "language_info": {
   "codemirror_mode": {
    "name": "ipython",
    "version": 3
   },
   "file_extension": ".py",
   "mimetype": "text/x-python",
   "name": "python",
   "nbconvert_exporter": "python",
   "pygments_lexer": "ipython3",
   "version": "3.11.0"
  }
 },
 "nbformat": 4,
 "nbformat_minor": 2
}
